{
  "nbformat": 4,
  "nbformat_minor": 0,
  "metadata": {
    "colab": {
      "name": "Git Basics 200810 SR.ipynb",
      "provenance": [],
      "collapsed_sections": []
    },
    "kernelspec": {
      "name": "python3",
      "display_name": "Python 3"
    },
    "widgets": {
      "application/vnd.jupyter.widget-state+json": {
        "151071b65e0541c0b861bfe16a813d5c": {
          "model_module": "@jupyter-widgets/controls",
          "model_name": "HBoxModel",
          "state": {
            "_view_name": "HBoxView",
            "_dom_classes": [],
            "_model_name": "HBoxModel",
            "_view_module": "@jupyter-widgets/controls",
            "_model_module_version": "1.5.0",
            "_view_count": null,
            "_view_module_version": "1.5.0",
            "box_style": "",
            "layout": "IPY_MODEL_806e482d80a147fbbc57ef83310d9009",
            "_model_module": "@jupyter-widgets/controls",
            "children": [
              "IPY_MODEL_4fd26f7e14d3404583fb1e8a54139e9c",
              "IPY_MODEL_ffcbb0c0a6734e44ac3e4a3870b543b6"
            ]
          }
        },
        "806e482d80a147fbbc57ef83310d9009": {
          "model_module": "@jupyter-widgets/base",
          "model_name": "LayoutModel",
          "state": {
            "_view_name": "LayoutView",
            "grid_template_rows": null,
            "right": null,
            "justify_content": null,
            "_view_module": "@jupyter-widgets/base",
            "overflow": null,
            "_model_module_version": "1.2.0",
            "_view_count": null,
            "flex_flow": null,
            "width": null,
            "min_width": null,
            "border": null,
            "align_items": null,
            "bottom": null,
            "_model_module": "@jupyter-widgets/base",
            "top": null,
            "grid_column": null,
            "overflow_y": null,
            "overflow_x": null,
            "grid_auto_flow": null,
            "grid_area": null,
            "grid_template_columns": null,
            "flex": null,
            "_model_name": "LayoutModel",
            "justify_items": null,
            "grid_row": null,
            "max_height": null,
            "align_content": null,
            "visibility": null,
            "align_self": null,
            "height": null,
            "min_height": null,
            "padding": null,
            "grid_auto_rows": null,
            "grid_gap": null,
            "max_width": null,
            "order": null,
            "_view_module_version": "1.2.0",
            "grid_template_areas": null,
            "object_position": null,
            "object_fit": null,
            "grid_auto_columns": null,
            "margin": null,
            "display": null,
            "left": null
          }
        },
        "4fd26f7e14d3404583fb1e8a54139e9c": {
          "model_module": "@jupyter-widgets/controls",
          "model_name": "FloatProgressModel",
          "state": {
            "_view_name": "ProgressView",
            "style": "IPY_MODEL_54aa2f362d1b4adca2319b4ebb9b48fc",
            "_dom_classes": [],
            "description": "Summarize dataset: 100%",
            "_model_name": "FloatProgressModel",
            "bar_style": "success",
            "max": 24,
            "_view_module": "@jupyter-widgets/controls",
            "_model_module_version": "1.5.0",
            "value": 24,
            "_view_count": null,
            "_view_module_version": "1.5.0",
            "orientation": "horizontal",
            "min": 0,
            "description_tooltip": null,
            "_model_module": "@jupyter-widgets/controls",
            "layout": "IPY_MODEL_249d9d3ac5e74a1991d3664cdf43a191"
          }
        },
        "ffcbb0c0a6734e44ac3e4a3870b543b6": {
          "model_module": "@jupyter-widgets/controls",
          "model_name": "HTMLModel",
          "state": {
            "_view_name": "HTMLView",
            "style": "IPY_MODEL_17abbee80a4a426985417c229fbe5b5f",
            "_dom_classes": [],
            "description": "",
            "_model_name": "HTMLModel",
            "placeholder": "​",
            "_view_module": "@jupyter-widgets/controls",
            "_model_module_version": "1.5.0",
            "value": " 24/24 [00:21&lt;00:00,  1.10it/s, Completed]",
            "_view_count": null,
            "_view_module_version": "1.5.0",
            "description_tooltip": null,
            "_model_module": "@jupyter-widgets/controls",
            "layout": "IPY_MODEL_267931ae1eb54ddaaa459d1f8d428961"
          }
        },
        "54aa2f362d1b4adca2319b4ebb9b48fc": {
          "model_module": "@jupyter-widgets/controls",
          "model_name": "ProgressStyleModel",
          "state": {
            "_view_name": "StyleView",
            "_model_name": "ProgressStyleModel",
            "description_width": "initial",
            "_view_module": "@jupyter-widgets/base",
            "_model_module_version": "1.5.0",
            "_view_count": null,
            "_view_module_version": "1.2.0",
            "bar_color": null,
            "_model_module": "@jupyter-widgets/controls"
          }
        },
        "249d9d3ac5e74a1991d3664cdf43a191": {
          "model_module": "@jupyter-widgets/base",
          "model_name": "LayoutModel",
          "state": {
            "_view_name": "LayoutView",
            "grid_template_rows": null,
            "right": null,
            "justify_content": null,
            "_view_module": "@jupyter-widgets/base",
            "overflow": null,
            "_model_module_version": "1.2.0",
            "_view_count": null,
            "flex_flow": null,
            "width": null,
            "min_width": null,
            "border": null,
            "align_items": null,
            "bottom": null,
            "_model_module": "@jupyter-widgets/base",
            "top": null,
            "grid_column": null,
            "overflow_y": null,
            "overflow_x": null,
            "grid_auto_flow": null,
            "grid_area": null,
            "grid_template_columns": null,
            "flex": null,
            "_model_name": "LayoutModel",
            "justify_items": null,
            "grid_row": null,
            "max_height": null,
            "align_content": null,
            "visibility": null,
            "align_self": null,
            "height": null,
            "min_height": null,
            "padding": null,
            "grid_auto_rows": null,
            "grid_gap": null,
            "max_width": null,
            "order": null,
            "_view_module_version": "1.2.0",
            "grid_template_areas": null,
            "object_position": null,
            "object_fit": null,
            "grid_auto_columns": null,
            "margin": null,
            "display": null,
            "left": null
          }
        },
        "17abbee80a4a426985417c229fbe5b5f": {
          "model_module": "@jupyter-widgets/controls",
          "model_name": "DescriptionStyleModel",
          "state": {
            "_view_name": "StyleView",
            "_model_name": "DescriptionStyleModel",
            "description_width": "",
            "_view_module": "@jupyter-widgets/base",
            "_model_module_version": "1.5.0",
            "_view_count": null,
            "_view_module_version": "1.2.0",
            "_model_module": "@jupyter-widgets/controls"
          }
        },
        "267931ae1eb54ddaaa459d1f8d428961": {
          "model_module": "@jupyter-widgets/base",
          "model_name": "LayoutModel",
          "state": {
            "_view_name": "LayoutView",
            "grid_template_rows": null,
            "right": null,
            "justify_content": null,
            "_view_module": "@jupyter-widgets/base",
            "overflow": null,
            "_model_module_version": "1.2.0",
            "_view_count": null,
            "flex_flow": null,
            "width": null,
            "min_width": null,
            "border": null,
            "align_items": null,
            "bottom": null,
            "_model_module": "@jupyter-widgets/base",
            "top": null,
            "grid_column": null,
            "overflow_y": null,
            "overflow_x": null,
            "grid_auto_flow": null,
            "grid_area": null,
            "grid_template_columns": null,
            "flex": null,
            "_model_name": "LayoutModel",
            "justify_items": null,
            "grid_row": null,
            "max_height": null,
            "align_content": null,
            "visibility": null,
            "align_self": null,
            "height": null,
            "min_height": null,
            "padding": null,
            "grid_auto_rows": null,
            "grid_gap": null,
            "max_width": null,
            "order": null,
            "_view_module_version": "1.2.0",
            "grid_template_areas": null,
            "object_position": null,
            "object_fit": null,
            "grid_auto_columns": null,
            "margin": null,
            "display": null,
            "left": null
          }
        },
        "c3bec3da8e58480986f12c20bf820d2f": {
          "model_module": "@jupyter-widgets/controls",
          "model_name": "HBoxModel",
          "state": {
            "_view_name": "HBoxView",
            "_dom_classes": [],
            "_model_name": "HBoxModel",
            "_view_module": "@jupyter-widgets/controls",
            "_model_module_version": "1.5.0",
            "_view_count": null,
            "_view_module_version": "1.5.0",
            "box_style": "",
            "layout": "IPY_MODEL_fb467f20189a48a1a15b461f6d84d586",
            "_model_module": "@jupyter-widgets/controls",
            "children": [
              "IPY_MODEL_2caaa482cfeb4432a3fb092102bfef20",
              "IPY_MODEL_0f40a7e829b9495686cb26c3e7a15559"
            ]
          }
        },
        "fb467f20189a48a1a15b461f6d84d586": {
          "model_module": "@jupyter-widgets/base",
          "model_name": "LayoutModel",
          "state": {
            "_view_name": "LayoutView",
            "grid_template_rows": null,
            "right": null,
            "justify_content": null,
            "_view_module": "@jupyter-widgets/base",
            "overflow": null,
            "_model_module_version": "1.2.0",
            "_view_count": null,
            "flex_flow": null,
            "width": null,
            "min_width": null,
            "border": null,
            "align_items": null,
            "bottom": null,
            "_model_module": "@jupyter-widgets/base",
            "top": null,
            "grid_column": null,
            "overflow_y": null,
            "overflow_x": null,
            "grid_auto_flow": null,
            "grid_area": null,
            "grid_template_columns": null,
            "flex": null,
            "_model_name": "LayoutModel",
            "justify_items": null,
            "grid_row": null,
            "max_height": null,
            "align_content": null,
            "visibility": null,
            "align_self": null,
            "height": null,
            "min_height": null,
            "padding": null,
            "grid_auto_rows": null,
            "grid_gap": null,
            "max_width": null,
            "order": null,
            "_view_module_version": "1.2.0",
            "grid_template_areas": null,
            "object_position": null,
            "object_fit": null,
            "grid_auto_columns": null,
            "margin": null,
            "display": null,
            "left": null
          }
        },
        "2caaa482cfeb4432a3fb092102bfef20": {
          "model_module": "@jupyter-widgets/controls",
          "model_name": "FloatProgressModel",
          "state": {
            "_view_name": "ProgressView",
            "style": "IPY_MODEL_05aa578af46a4f64906f38484eb766fb",
            "_dom_classes": [],
            "description": "Generate report structure: 100%",
            "_model_name": "FloatProgressModel",
            "bar_style": "success",
            "max": 1,
            "_view_module": "@jupyter-widgets/controls",
            "_model_module_version": "1.5.0",
            "value": 1,
            "_view_count": null,
            "_view_module_version": "1.5.0",
            "orientation": "horizontal",
            "min": 0,
            "description_tooltip": null,
            "_model_module": "@jupyter-widgets/controls",
            "layout": "IPY_MODEL_685db6b052184f958c3d49668b892349"
          }
        },
        "0f40a7e829b9495686cb26c3e7a15559": {
          "model_module": "@jupyter-widgets/controls",
          "model_name": "HTMLModel",
          "state": {
            "_view_name": "HTMLView",
            "style": "IPY_MODEL_66062aac702d42318198c8513f39fe13",
            "_dom_classes": [],
            "description": "",
            "_model_name": "HTMLModel",
            "placeholder": "​",
            "_view_module": "@jupyter-widgets/controls",
            "_model_module_version": "1.5.0",
            "value": " 1/1 [00:06&lt;00:00,  6.98s/it]",
            "_view_count": null,
            "_view_module_version": "1.5.0",
            "description_tooltip": null,
            "_model_module": "@jupyter-widgets/controls",
            "layout": "IPY_MODEL_46805744940c4415ade777bdf5fc8a37"
          }
        },
        "05aa578af46a4f64906f38484eb766fb": {
          "model_module": "@jupyter-widgets/controls",
          "model_name": "ProgressStyleModel",
          "state": {
            "_view_name": "StyleView",
            "_model_name": "ProgressStyleModel",
            "description_width": "initial",
            "_view_module": "@jupyter-widgets/base",
            "_model_module_version": "1.5.0",
            "_view_count": null,
            "_view_module_version": "1.2.0",
            "bar_color": null,
            "_model_module": "@jupyter-widgets/controls"
          }
        },
        "685db6b052184f958c3d49668b892349": {
          "model_module": "@jupyter-widgets/base",
          "model_name": "LayoutModel",
          "state": {
            "_view_name": "LayoutView",
            "grid_template_rows": null,
            "right": null,
            "justify_content": null,
            "_view_module": "@jupyter-widgets/base",
            "overflow": null,
            "_model_module_version": "1.2.0",
            "_view_count": null,
            "flex_flow": null,
            "width": null,
            "min_width": null,
            "border": null,
            "align_items": null,
            "bottom": null,
            "_model_module": "@jupyter-widgets/base",
            "top": null,
            "grid_column": null,
            "overflow_y": null,
            "overflow_x": null,
            "grid_auto_flow": null,
            "grid_area": null,
            "grid_template_columns": null,
            "flex": null,
            "_model_name": "LayoutModel",
            "justify_items": null,
            "grid_row": null,
            "max_height": null,
            "align_content": null,
            "visibility": null,
            "align_self": null,
            "height": null,
            "min_height": null,
            "padding": null,
            "grid_auto_rows": null,
            "grid_gap": null,
            "max_width": null,
            "order": null,
            "_view_module_version": "1.2.0",
            "grid_template_areas": null,
            "object_position": null,
            "object_fit": null,
            "grid_auto_columns": null,
            "margin": null,
            "display": null,
            "left": null
          }
        },
        "66062aac702d42318198c8513f39fe13": {
          "model_module": "@jupyter-widgets/controls",
          "model_name": "DescriptionStyleModel",
          "state": {
            "_view_name": "StyleView",
            "_model_name": "DescriptionStyleModel",
            "description_width": "",
            "_view_module": "@jupyter-widgets/base",
            "_model_module_version": "1.5.0",
            "_view_count": null,
            "_view_module_version": "1.2.0",
            "_model_module": "@jupyter-widgets/controls"
          }
        },
        "46805744940c4415ade777bdf5fc8a37": {
          "model_module": "@jupyter-widgets/base",
          "model_name": "LayoutModel",
          "state": {
            "_view_name": "LayoutView",
            "grid_template_rows": null,
            "right": null,
            "justify_content": null,
            "_view_module": "@jupyter-widgets/base",
            "overflow": null,
            "_model_module_version": "1.2.0",
            "_view_count": null,
            "flex_flow": null,
            "width": null,
            "min_width": null,
            "border": null,
            "align_items": null,
            "bottom": null,
            "_model_module": "@jupyter-widgets/base",
            "top": null,
            "grid_column": null,
            "overflow_y": null,
            "overflow_x": null,
            "grid_auto_flow": null,
            "grid_area": null,
            "grid_template_columns": null,
            "flex": null,
            "_model_name": "LayoutModel",
            "justify_items": null,
            "grid_row": null,
            "max_height": null,
            "align_content": null,
            "visibility": null,
            "align_self": null,
            "height": null,
            "min_height": null,
            "padding": null,
            "grid_auto_rows": null,
            "grid_gap": null,
            "max_width": null,
            "order": null,
            "_view_module_version": "1.2.0",
            "grid_template_areas": null,
            "object_position": null,
            "object_fit": null,
            "grid_auto_columns": null,
            "margin": null,
            "display": null,
            "left": null
          }
        },
        "14866fdcb5ed4296b94f1c97960df0cc": {
          "model_module": "@jupyter-widgets/controls",
          "model_name": "HBoxModel",
          "state": {
            "_view_name": "HBoxView",
            "_dom_classes": [],
            "_model_name": "HBoxModel",
            "_view_module": "@jupyter-widgets/controls",
            "_model_module_version": "1.5.0",
            "_view_count": null,
            "_view_module_version": "1.5.0",
            "box_style": "",
            "layout": "IPY_MODEL_f7a9058890de43e29c7bf676e98ee575",
            "_model_module": "@jupyter-widgets/controls",
            "children": [
              "IPY_MODEL_e67ca9034fd24d41848611aabb48579b",
              "IPY_MODEL_b713e641f7de4d37a1dd14f009152ee9"
            ]
          }
        },
        "f7a9058890de43e29c7bf676e98ee575": {
          "model_module": "@jupyter-widgets/base",
          "model_name": "LayoutModel",
          "state": {
            "_view_name": "LayoutView",
            "grid_template_rows": null,
            "right": null,
            "justify_content": null,
            "_view_module": "@jupyter-widgets/base",
            "overflow": null,
            "_model_module_version": "1.2.0",
            "_view_count": null,
            "flex_flow": null,
            "width": null,
            "min_width": null,
            "border": null,
            "align_items": null,
            "bottom": null,
            "_model_module": "@jupyter-widgets/base",
            "top": null,
            "grid_column": null,
            "overflow_y": null,
            "overflow_x": null,
            "grid_auto_flow": null,
            "grid_area": null,
            "grid_template_columns": null,
            "flex": null,
            "_model_name": "LayoutModel",
            "justify_items": null,
            "grid_row": null,
            "max_height": null,
            "align_content": null,
            "visibility": null,
            "align_self": null,
            "height": null,
            "min_height": null,
            "padding": null,
            "grid_auto_rows": null,
            "grid_gap": null,
            "max_width": null,
            "order": null,
            "_view_module_version": "1.2.0",
            "grid_template_areas": null,
            "object_position": null,
            "object_fit": null,
            "grid_auto_columns": null,
            "margin": null,
            "display": null,
            "left": null
          }
        },
        "e67ca9034fd24d41848611aabb48579b": {
          "model_module": "@jupyter-widgets/controls",
          "model_name": "FloatProgressModel",
          "state": {
            "_view_name": "ProgressView",
            "style": "IPY_MODEL_f5b63b7d11c3409baa7864599383884b",
            "_dom_classes": [],
            "description": "Render HTML: 100%",
            "_model_name": "FloatProgressModel",
            "bar_style": "success",
            "max": 1,
            "_view_module": "@jupyter-widgets/controls",
            "_model_module_version": "1.5.0",
            "value": 1,
            "_view_count": null,
            "_view_module_version": "1.5.0",
            "orientation": "horizontal",
            "min": 0,
            "description_tooltip": null,
            "_model_module": "@jupyter-widgets/controls",
            "layout": "IPY_MODEL_e012c933bb8841879759f8d03d1256c0"
          }
        },
        "b713e641f7de4d37a1dd14f009152ee9": {
          "model_module": "@jupyter-widgets/controls",
          "model_name": "HTMLModel",
          "state": {
            "_view_name": "HTMLView",
            "style": "IPY_MODEL_0cb610f3288841e099a8687827f94664",
            "_dom_classes": [],
            "description": "",
            "_model_name": "HTMLModel",
            "placeholder": "​",
            "_view_module": "@jupyter-widgets/controls",
            "_model_module_version": "1.5.0",
            "value": " 1/1 [00:01&lt;00:00,  1.59s/it]",
            "_view_count": null,
            "_view_module_version": "1.5.0",
            "description_tooltip": null,
            "_model_module": "@jupyter-widgets/controls",
            "layout": "IPY_MODEL_33e6512c5d9c43529da76fca88b69d1f"
          }
        },
        "f5b63b7d11c3409baa7864599383884b": {
          "model_module": "@jupyter-widgets/controls",
          "model_name": "ProgressStyleModel",
          "state": {
            "_view_name": "StyleView",
            "_model_name": "ProgressStyleModel",
            "description_width": "initial",
            "_view_module": "@jupyter-widgets/base",
            "_model_module_version": "1.5.0",
            "_view_count": null,
            "_view_module_version": "1.2.0",
            "bar_color": null,
            "_model_module": "@jupyter-widgets/controls"
          }
        },
        "e012c933bb8841879759f8d03d1256c0": {
          "model_module": "@jupyter-widgets/base",
          "model_name": "LayoutModel",
          "state": {
            "_view_name": "LayoutView",
            "grid_template_rows": null,
            "right": null,
            "justify_content": null,
            "_view_module": "@jupyter-widgets/base",
            "overflow": null,
            "_model_module_version": "1.2.0",
            "_view_count": null,
            "flex_flow": null,
            "width": null,
            "min_width": null,
            "border": null,
            "align_items": null,
            "bottom": null,
            "_model_module": "@jupyter-widgets/base",
            "top": null,
            "grid_column": null,
            "overflow_y": null,
            "overflow_x": null,
            "grid_auto_flow": null,
            "grid_area": null,
            "grid_template_columns": null,
            "flex": null,
            "_model_name": "LayoutModel",
            "justify_items": null,
            "grid_row": null,
            "max_height": null,
            "align_content": null,
            "visibility": null,
            "align_self": null,
            "height": null,
            "min_height": null,
            "padding": null,
            "grid_auto_rows": null,
            "grid_gap": null,
            "max_width": null,
            "order": null,
            "_view_module_version": "1.2.0",
            "grid_template_areas": null,
            "object_position": null,
            "object_fit": null,
            "grid_auto_columns": null,
            "margin": null,
            "display": null,
            "left": null
          }
        },
        "0cb610f3288841e099a8687827f94664": {
          "model_module": "@jupyter-widgets/controls",
          "model_name": "DescriptionStyleModel",
          "state": {
            "_view_name": "StyleView",
            "_model_name": "DescriptionStyleModel",
            "description_width": "",
            "_view_module": "@jupyter-widgets/base",
            "_model_module_version": "1.5.0",
            "_view_count": null,
            "_view_module_version": "1.2.0",
            "_model_module": "@jupyter-widgets/controls"
          }
        },
        "33e6512c5d9c43529da76fca88b69d1f": {
          "model_module": "@jupyter-widgets/base",
          "model_name": "LayoutModel",
          "state": {
            "_view_name": "LayoutView",
            "grid_template_rows": null,
            "right": null,
            "justify_content": null,
            "_view_module": "@jupyter-widgets/base",
            "overflow": null,
            "_model_module_version": "1.2.0",
            "_view_count": null,
            "flex_flow": null,
            "width": null,
            "min_width": null,
            "border": null,
            "align_items": null,
            "bottom": null,
            "_model_module": "@jupyter-widgets/base",
            "top": null,
            "grid_column": null,
            "overflow_y": null,
            "overflow_x": null,
            "grid_auto_flow": null,
            "grid_area": null,
            "grid_template_columns": null,
            "flex": null,
            "_model_name": "LayoutModel",
            "justify_items": null,
            "grid_row": null,
            "max_height": null,
            "align_content": null,
            "visibility": null,
            "align_self": null,
            "height": null,
            "min_height": null,
            "padding": null,
            "grid_auto_rows": null,
            "grid_gap": null,
            "max_width": null,
            "order": null,
            "_view_module_version": "1.2.0",
            "grid_template_areas": null,
            "object_position": null,
            "object_fit": null,
            "grid_auto_columns": null,
            "margin": null,
            "display": null,
            "left": null
          }
        },
        "d99829fa8a494aceb04ad6c8679de140": {
          "model_module": "@jupyter-widgets/controls",
          "model_name": "HBoxModel",
          "state": {
            "_view_name": "HBoxView",
            "_dom_classes": [],
            "_model_name": "HBoxModel",
            "_view_module": "@jupyter-widgets/controls",
            "_model_module_version": "1.5.0",
            "_view_count": null,
            "_view_module_version": "1.5.0",
            "box_style": "",
            "layout": "IPY_MODEL_81747924873a4228b9b1747fed6c99b5",
            "_model_module": "@jupyter-widgets/controls",
            "children": [
              "IPY_MODEL_11b17b1bcde84e4f87202cd66edc2e46",
              "IPY_MODEL_fee52d5f59d84a8d9a4f9ce591e9f344"
            ]
          }
        },
        "81747924873a4228b9b1747fed6c99b5": {
          "model_module": "@jupyter-widgets/base",
          "model_name": "LayoutModel",
          "state": {
            "_view_name": "LayoutView",
            "grid_template_rows": null,
            "right": null,
            "justify_content": null,
            "_view_module": "@jupyter-widgets/base",
            "overflow": null,
            "_model_module_version": "1.2.0",
            "_view_count": null,
            "flex_flow": null,
            "width": null,
            "min_width": null,
            "border": null,
            "align_items": null,
            "bottom": null,
            "_model_module": "@jupyter-widgets/base",
            "top": null,
            "grid_column": null,
            "overflow_y": null,
            "overflow_x": null,
            "grid_auto_flow": null,
            "grid_area": null,
            "grid_template_columns": null,
            "flex": null,
            "_model_name": "LayoutModel",
            "justify_items": null,
            "grid_row": null,
            "max_height": null,
            "align_content": null,
            "visibility": null,
            "align_self": null,
            "height": null,
            "min_height": null,
            "padding": null,
            "grid_auto_rows": null,
            "grid_gap": null,
            "max_width": null,
            "order": null,
            "_view_module_version": "1.2.0",
            "grid_template_areas": null,
            "object_position": null,
            "object_fit": null,
            "grid_auto_columns": null,
            "margin": null,
            "display": null,
            "left": null
          }
        },
        "11b17b1bcde84e4f87202cd66edc2e46": {
          "model_module": "@jupyter-widgets/controls",
          "model_name": "FloatProgressModel",
          "state": {
            "_view_name": "ProgressView",
            "style": "IPY_MODEL_83d24c1b3292498f9e9a14fcdcd02cdb",
            "_dom_classes": [],
            "description": "Export report to file: 100%",
            "_model_name": "FloatProgressModel",
            "bar_style": "success",
            "max": 1,
            "_view_module": "@jupyter-widgets/controls",
            "_model_module_version": "1.5.0",
            "value": 1,
            "_view_count": null,
            "_view_module_version": "1.5.0",
            "orientation": "horizontal",
            "min": 0,
            "description_tooltip": null,
            "_model_module": "@jupyter-widgets/controls",
            "layout": "IPY_MODEL_b68a774daf2141519b2bfd9e9b432f3b"
          }
        },
        "fee52d5f59d84a8d9a4f9ce591e9f344": {
          "model_module": "@jupyter-widgets/controls",
          "model_name": "HTMLModel",
          "state": {
            "_view_name": "HTMLView",
            "style": "IPY_MODEL_d7eebdcbe464431db3c118d3a091b20d",
            "_dom_classes": [],
            "description": "",
            "_model_name": "HTMLModel",
            "placeholder": "​",
            "_view_module": "@jupyter-widgets/controls",
            "_model_module_version": "1.5.0",
            "value": " 1/1 [00:00&lt;00:00, 21.99it/s]",
            "_view_count": null,
            "_view_module_version": "1.5.0",
            "description_tooltip": null,
            "_model_module": "@jupyter-widgets/controls",
            "layout": "IPY_MODEL_36f36407b3b04241bf7505749ed7ec35"
          }
        },
        "83d24c1b3292498f9e9a14fcdcd02cdb": {
          "model_module": "@jupyter-widgets/controls",
          "model_name": "ProgressStyleModel",
          "state": {
            "_view_name": "StyleView",
            "_model_name": "ProgressStyleModel",
            "description_width": "initial",
            "_view_module": "@jupyter-widgets/base",
            "_model_module_version": "1.5.0",
            "_view_count": null,
            "_view_module_version": "1.2.0",
            "bar_color": null,
            "_model_module": "@jupyter-widgets/controls"
          }
        },
        "b68a774daf2141519b2bfd9e9b432f3b": {
          "model_module": "@jupyter-widgets/base",
          "model_name": "LayoutModel",
          "state": {
            "_view_name": "LayoutView",
            "grid_template_rows": null,
            "right": null,
            "justify_content": null,
            "_view_module": "@jupyter-widgets/base",
            "overflow": null,
            "_model_module_version": "1.2.0",
            "_view_count": null,
            "flex_flow": null,
            "width": null,
            "min_width": null,
            "border": null,
            "align_items": null,
            "bottom": null,
            "_model_module": "@jupyter-widgets/base",
            "top": null,
            "grid_column": null,
            "overflow_y": null,
            "overflow_x": null,
            "grid_auto_flow": null,
            "grid_area": null,
            "grid_template_columns": null,
            "flex": null,
            "_model_name": "LayoutModel",
            "justify_items": null,
            "grid_row": null,
            "max_height": null,
            "align_content": null,
            "visibility": null,
            "align_self": null,
            "height": null,
            "min_height": null,
            "padding": null,
            "grid_auto_rows": null,
            "grid_gap": null,
            "max_width": null,
            "order": null,
            "_view_module_version": "1.2.0",
            "grid_template_areas": null,
            "object_position": null,
            "object_fit": null,
            "grid_auto_columns": null,
            "margin": null,
            "display": null,
            "left": null
          }
        },
        "d7eebdcbe464431db3c118d3a091b20d": {
          "model_module": "@jupyter-widgets/controls",
          "model_name": "DescriptionStyleModel",
          "state": {
            "_view_name": "StyleView",
            "_model_name": "DescriptionStyleModel",
            "description_width": "",
            "_view_module": "@jupyter-widgets/base",
            "_model_module_version": "1.5.0",
            "_view_count": null,
            "_view_module_version": "1.2.0",
            "_model_module": "@jupyter-widgets/controls"
          }
        },
        "36f36407b3b04241bf7505749ed7ec35": {
          "model_module": "@jupyter-widgets/base",
          "model_name": "LayoutModel",
          "state": {
            "_view_name": "LayoutView",
            "grid_template_rows": null,
            "right": null,
            "justify_content": null,
            "_view_module": "@jupyter-widgets/base",
            "overflow": null,
            "_model_module_version": "1.2.0",
            "_view_count": null,
            "flex_flow": null,
            "width": null,
            "min_width": null,
            "border": null,
            "align_items": null,
            "bottom": null,
            "_model_module": "@jupyter-widgets/base",
            "top": null,
            "grid_column": null,
            "overflow_y": null,
            "overflow_x": null,
            "grid_auto_flow": null,
            "grid_area": null,
            "grid_template_columns": null,
            "flex": null,
            "_model_name": "LayoutModel",
            "justify_items": null,
            "grid_row": null,
            "max_height": null,
            "align_content": null,
            "visibility": null,
            "align_self": null,
            "height": null,
            "min_height": null,
            "padding": null,
            "grid_auto_rows": null,
            "grid_gap": null,
            "max_width": null,
            "order": null,
            "_view_module_version": "1.2.0",
            "grid_template_areas": null,
            "object_position": null,
            "object_fit": null,
            "grid_auto_columns": null,
            "margin": null,
            "display": null,
            "left": null
          }
        }
      }
    }
  },
  "cells": [
    {
      "cell_type": "markdown",
      "metadata": {
        "id": "qpdHNqEm_m5_",
        "colab_type": "text"
      },
      "source": [
        "Formatting text in Colaboratory: A guide to Colaboratory markdown\n",
        "==="
      ]
    },
    {
      "cell_type": "markdown",
      "metadata": {
        "id": "9hYqkJCnfcxU",
        "colab_type": "text"
      },
      "source": [
        "This is a title\n",
        "==="
      ]
    },
    {
      "cell_type": "markdown",
      "metadata": {
        "id": "uyqB5AJJfuTU",
        "colab_type": "text"
      },
      "source": [
        "## This is a subsection"
      ]
    },
    {
      "cell_type": "markdown",
      "metadata": {
        "id": "FpdGJsCV_eHg",
        "colab_type": "text"
      },
      "source": [
        "## What is markdown?\n",
        "\n",
        "Colaboratory has two types of cells: text and code. The text cells are formatted using a simple markup language called markdown, based on [the original](https://daringfireball.net/projects/markdown/syntax).\n",
        "\n",
        "## Quick reference"
      ]
    },
    {
      "cell_type": "markdown",
      "metadata": {
        "id": "BL3ojI7P_SAE",
        "colab_type": "text"
      },
      "source": [
        "##### \\#\\#\\#\\#\\#This text is treated as an <h5> because it has five hashes at the beginning\n",
        "\n",
        "\\**italics*\\* and \\__italics_\\_\n",
        "\n",
        "**\\*\\*bold\\*\\***\n",
        "\n",
        "\\~\\~~~strikethrough~~\\~\\~\n",
        "\n",
        "\n",
        "No indent\n",
        ">\\>One level of indentation\n",
        ">>\\>\\>Two levels of indentation\n",
        "\n",
        "An ordered list:\n",
        "1. 1\\. One\n",
        "1. 1\\. Two\n",
        "1. 1\\. Three\n",
        "\n",
        "An unordered list:\n",
        "* \\* One\n",
        "* \\* Two\n",
        "* \\* Three"
      ]
    },
    {
      "cell_type": "code",
      "metadata": {
        "id": "vEvtX18qsww9",
        "colab_type": "code",
        "colab": {}
      },
      "source": [
        "%load_ext autoreload\n",
        "%autoreload 2"
      ],
      "execution_count": null,
      "outputs": []
    },
    {
      "cell_type": "code",
      "metadata": {
        "id": "8kgkTcrko61E",
        "colab_type": "code",
        "colab": {}
      },
      "source": [
        "import pandas as pd"
      ],
      "execution_count": null,
      "outputs": []
    },
    {
      "cell_type": "code",
      "metadata": {
        "id": "ZB5ZvFNzm3ih",
        "colab_type": "code",
        "colab": {
          "resources": {
            "http://localhost:8080/nbextensions/google.colab/files.js": {
              "data": "Ly8gQ29weXJpZ2h0IDIwMTcgR29vZ2xlIExMQwovLwovLyBMaWNlbnNlZCB1bmRlciB0aGUgQXBhY2hlIExpY2Vuc2UsIFZlcnNpb24gMi4wICh0aGUgIkxpY2Vuc2UiKTsKLy8geW91IG1heSBub3QgdXNlIHRoaXMgZmlsZSBleGNlcHQgaW4gY29tcGxpYW5jZSB3aXRoIHRoZSBMaWNlbnNlLgovLyBZb3UgbWF5IG9idGFpbiBhIGNvcHkgb2YgdGhlIExpY2Vuc2UgYXQKLy8KLy8gICAgICBodHRwOi8vd3d3LmFwYWNoZS5vcmcvbGljZW5zZXMvTElDRU5TRS0yLjAKLy8KLy8gVW5sZXNzIHJlcXVpcmVkIGJ5IGFwcGxpY2FibGUgbGF3IG9yIGFncmVlZCB0byBpbiB3cml0aW5nLCBzb2Z0d2FyZQovLyBkaXN0cmlidXRlZCB1bmRlciB0aGUgTGljZW5zZSBpcyBkaXN0cmlidXRlZCBvbiBhbiAiQVMgSVMiIEJBU0lTLAovLyBXSVRIT1VUIFdBUlJBTlRJRVMgT1IgQ09ORElUSU9OUyBPRiBBTlkgS0lORCwgZWl0aGVyIGV4cHJlc3Mgb3IgaW1wbGllZC4KLy8gU2VlIHRoZSBMaWNlbnNlIGZvciB0aGUgc3BlY2lmaWMgbGFuZ3VhZ2UgZ292ZXJuaW5nIHBlcm1pc3Npb25zIGFuZAovLyBsaW1pdGF0aW9ucyB1bmRlciB0aGUgTGljZW5zZS4KCi8qKgogKiBAZmlsZW92ZXJ2aWV3IEhlbHBlcnMgZm9yIGdvb2dsZS5jb2xhYiBQeXRob24gbW9kdWxlLgogKi8KKGZ1bmN0aW9uKHNjb3BlKSB7CmZ1bmN0aW9uIHNwYW4odGV4dCwgc3R5bGVBdHRyaWJ1dGVzID0ge30pIHsKICBjb25zdCBlbGVtZW50ID0gZG9jdW1lbnQuY3JlYXRlRWxlbWVudCgnc3BhbicpOwogIGVsZW1lbnQudGV4dENvbnRlbnQgPSB0ZXh0OwogIGZvciAoY29uc3Qga2V5IG9mIE9iamVjdC5rZXlzKHN0eWxlQXR0cmlidXRlcykpIHsKICAgIGVsZW1lbnQuc3R5bGVba2V5XSA9IHN0eWxlQXR0cmlidXRlc1trZXldOwogIH0KICByZXR1cm4gZWxlbWVudDsKfQoKLy8gTWF4IG51bWJlciBvZiBieXRlcyB3aGljaCB3aWxsIGJlIHVwbG9hZGVkIGF0IGEgdGltZS4KY29uc3QgTUFYX1BBWUxPQURfU0laRSA9IDEwMCAqIDEwMjQ7CgpmdW5jdGlvbiBfdXBsb2FkRmlsZXMoaW5wdXRJZCwgb3V0cHV0SWQpIHsKICBjb25zdCBzdGVwcyA9IHVwbG9hZEZpbGVzU3RlcChpbnB1dElkLCBvdXRwdXRJZCk7CiAgY29uc3Qgb3V0cHV0RWxlbWVudCA9IGRvY3VtZW50LmdldEVsZW1lbnRCeUlkKG91dHB1dElkKTsKICAvLyBDYWNoZSBzdGVwcyBvbiB0aGUgb3V0cHV0RWxlbWVudCB0byBtYWtlIGl0IGF2YWlsYWJsZSBmb3IgdGhlIG5leHQgY2FsbAogIC8vIHRvIHVwbG9hZEZpbGVzQ29udGludWUgZnJvbSBQeXRob24uCiAgb3V0cHV0RWxlbWVudC5zdGVwcyA9IHN0ZXBzOwoKICByZXR1cm4gX3VwbG9hZEZpbGVzQ29udGludWUob3V0cHV0SWQpOwp9CgovLyBUaGlzIGlzIHJvdWdobHkgYW4gYXN5bmMgZ2VuZXJhdG9yIChub3Qgc3VwcG9ydGVkIGluIHRoZSBicm93c2VyIHlldCksCi8vIHdoZXJlIHRoZXJlIGFyZSBtdWx0aXBsZSBhc3luY2hyb25vdXMgc3RlcHMgYW5kIHRoZSBQeXRob24gc2lkZSBpcyBnb2luZwovLyB0byBwb2xsIGZvciBjb21wbGV0aW9uIG9mIGVhY2ggc3RlcC4KLy8gVGhpcyB1c2VzIGEgUHJvbWlzZSB0byBibG9jayB0aGUgcHl0aG9uIHNpZGUgb24gY29tcGxldGlvbiBvZiBlYWNoIHN0ZXAsCi8vIHRoZW4gcGFzc2VzIHRoZSByZXN1bHQgb2YgdGhlIHByZXZpb3VzIHN0ZXAgYXMgdGhlIGlucHV0IHRvIHRoZSBuZXh0IHN0ZXAuCmZ1bmN0aW9uIF91cGxvYWRGaWxlc0NvbnRpbnVlKG91dHB1dElkKSB7CiAgY29uc3Qgb3V0cHV0RWxlbWVudCA9IGRvY3VtZW50LmdldEVsZW1lbnRCeUlkKG91dHB1dElkKTsKICBjb25zdCBzdGVwcyA9IG91dHB1dEVsZW1lbnQuc3RlcHM7CgogIGNvbnN0IG5leHQgPSBzdGVwcy5uZXh0KG91dHB1dEVsZW1lbnQubGFzdFByb21pc2VWYWx1ZSk7CiAgcmV0dXJuIFByb21pc2UucmVzb2x2ZShuZXh0LnZhbHVlLnByb21pc2UpLnRoZW4oKHZhbHVlKSA9PiB7CiAgICAvLyBDYWNoZSB0aGUgbGFzdCBwcm9taXNlIHZhbHVlIHRvIG1ha2UgaXQgYXZhaWxhYmxlIHRvIHRoZSBuZXh0CiAgICAvLyBzdGVwIG9mIHRoZSBnZW5lcmF0b3IuCiAgICBvdXRwdXRFbGVtZW50Lmxhc3RQcm9taXNlVmFsdWUgPSB2YWx1ZTsKICAgIHJldHVybiBuZXh0LnZhbHVlLnJlc3BvbnNlOwogIH0pOwp9CgovKioKICogR2VuZXJhdG9yIGZ1bmN0aW9uIHdoaWNoIGlzIGNhbGxlZCBiZXR3ZWVuIGVhY2ggYXN5bmMgc3RlcCBvZiB0aGUgdXBsb2FkCiAqIHByb2Nlc3MuCiAqIEBwYXJhbSB7c3RyaW5nfSBpbnB1dElkIEVsZW1lbnQgSUQgb2YgdGhlIGlucHV0IGZpbGUgcGlja2VyIGVsZW1lbnQuCiAqIEBwYXJhbSB7c3RyaW5nfSBvdXRwdXRJZCBFbGVtZW50IElEIG9mIHRoZSBvdXRwdXQgZGlzcGxheS4KICogQHJldHVybiB7IUl0ZXJhYmxlPCFPYmplY3Q+fSBJdGVyYWJsZSBvZiBuZXh0IHN0ZXBzLgogKi8KZnVuY3Rpb24qIHVwbG9hZEZpbGVzU3RlcChpbnB1dElkLCBvdXRwdXRJZCkgewogIGNvbnN0IGlucHV0RWxlbWVudCA9IGRvY3VtZW50LmdldEVsZW1lbnRCeUlkKGlucHV0SWQpOwogIGlucHV0RWxlbWVudC5kaXNhYmxlZCA9IGZhbHNlOwoKICBjb25zdCBvdXRwdXRFbGVtZW50ID0gZG9jdW1lbnQuZ2V0RWxlbWVudEJ5SWQob3V0cHV0SWQpOwogIG91dHB1dEVsZW1lbnQuaW5uZXJIVE1MID0gJyc7CgogIGNvbnN0IHBpY2tlZFByb21pc2UgPSBuZXcgUHJvbWlzZSgocmVzb2x2ZSkgPT4gewogICAgaW5wdXRFbGVtZW50LmFkZEV2ZW50TGlzdGVuZXIoJ2NoYW5nZScsIChlKSA9PiB7CiAgICAgIHJlc29sdmUoZS50YXJnZXQuZmlsZXMpOwogICAgfSk7CiAgfSk7CgogIGNvbnN0IGNhbmNlbCA9IGRvY3VtZW50LmNyZWF0ZUVsZW1lbnQoJ2J1dHRvbicpOwogIGlucHV0RWxlbWVudC5wYXJlbnRFbGVtZW50LmFwcGVuZENoaWxkKGNhbmNlbCk7CiAgY2FuY2VsLnRleHRDb250ZW50ID0gJ0NhbmNlbCB1cGxvYWQnOwogIGNvbnN0IGNhbmNlbFByb21pc2UgPSBuZXcgUHJvbWlzZSgocmVzb2x2ZSkgPT4gewogICAgY2FuY2VsLm9uY2xpY2sgPSAoKSA9PiB7CiAgICAgIHJlc29sdmUobnVsbCk7CiAgICB9OwogIH0pOwoKICAvLyBXYWl0IGZvciB0aGUgdXNlciB0byBwaWNrIHRoZSBmaWxlcy4KICBjb25zdCBmaWxlcyA9IHlpZWxkIHsKICAgIHByb21pc2U6IFByb21pc2UucmFjZShbcGlja2VkUHJvbWlzZSwgY2FuY2VsUHJvbWlzZV0pLAogICAgcmVzcG9uc2U6IHsKICAgICAgYWN0aW9uOiAnc3RhcnRpbmcnLAogICAgfQogIH07CgogIGNhbmNlbC5yZW1vdmUoKTsKCiAgLy8gRGlzYWJsZSB0aGUgaW5wdXQgZWxlbWVudCBzaW5jZSBmdXJ0aGVyIHBpY2tzIGFyZSBub3QgYWxsb3dlZC4KICBpbnB1dEVsZW1lbnQuZGlzYWJsZWQgPSB0cnVlOwoKICBpZiAoIWZpbGVzKSB7CiAgICByZXR1cm4gewogICAgICByZXNwb25zZTogewogICAgICAgIGFjdGlvbjogJ2NvbXBsZXRlJywKICAgICAgfQogICAgfTsKICB9CgogIGZvciAoY29uc3QgZmlsZSBvZiBmaWxlcykgewogICAgY29uc3QgbGkgPSBkb2N1bWVudC5jcmVhdGVFbGVtZW50KCdsaScpOwogICAgbGkuYXBwZW5kKHNwYW4oZmlsZS5uYW1lLCB7Zm9udFdlaWdodDogJ2JvbGQnfSkpOwogICAgbGkuYXBwZW5kKHNwYW4oCiAgICAgICAgYCgke2ZpbGUudHlwZSB8fCAnbi9hJ30pIC0gJHtmaWxlLnNpemV9IGJ5dGVzLCBgICsKICAgICAgICBgbGFzdCBtb2RpZmllZDogJHsKICAgICAgICAgICAgZmlsZS5sYXN0TW9kaWZpZWREYXRlID8gZmlsZS5sYXN0TW9kaWZpZWREYXRlLnRvTG9jYWxlRGF0ZVN0cmluZygpIDoKICAgICAgICAgICAgICAgICAgICAgICAgICAgICAgICAgICAgJ24vYSd9IC0gYCkpOwogICAgY29uc3QgcGVyY2VudCA9IHNwYW4oJzAlIGRvbmUnKTsKICAgIGxpLmFwcGVuZENoaWxkKHBlcmNlbnQpOwoKICAgIG91dHB1dEVsZW1lbnQuYXBwZW5kQ2hpbGQobGkpOwoKICAgIGNvbnN0IGZpbGVEYXRhUHJvbWlzZSA9IG5ldyBQcm9taXNlKChyZXNvbHZlKSA9PiB7CiAgICAgIGNvbnN0IHJlYWRlciA9IG5ldyBGaWxlUmVhZGVyKCk7CiAgICAgIHJlYWRlci5vbmxvYWQgPSAoZSkgPT4gewogICAgICAgIHJlc29sdmUoZS50YXJnZXQucmVzdWx0KTsKICAgICAgfTsKICAgICAgcmVhZGVyLnJlYWRBc0FycmF5QnVmZmVyKGZpbGUpOwogICAgfSk7CiAgICAvLyBXYWl0IGZvciB0aGUgZGF0YSB0byBiZSByZWFkeS4KICAgIGxldCBmaWxlRGF0YSA9IHlpZWxkIHsKICAgICAgcHJvbWlzZTogZmlsZURhdGFQcm9taXNlLAogICAgICByZXNwb25zZTogewogICAgICAgIGFjdGlvbjogJ2NvbnRpbnVlJywKICAgICAgfQogICAgfTsKCiAgICAvLyBVc2UgYSBjaHVua2VkIHNlbmRpbmcgdG8gYXZvaWQgbWVzc2FnZSBzaXplIGxpbWl0cy4gU2VlIGIvNjIxMTU2NjAuCiAgICBsZXQgcG9zaXRpb24gPSAwOwogICAgd2hpbGUgKHBvc2l0aW9uIDwgZmlsZURhdGEuYnl0ZUxlbmd0aCkgewogICAgICBjb25zdCBsZW5ndGggPSBNYXRoLm1pbihmaWxlRGF0YS5ieXRlTGVuZ3RoIC0gcG9zaXRpb24sIE1BWF9QQVlMT0FEX1NJWkUpOwogICAgICBjb25zdCBjaHVuayA9IG5ldyBVaW50OEFycmF5KGZpbGVEYXRhLCBwb3NpdGlvbiwgbGVuZ3RoKTsKICAgICAgcG9zaXRpb24gKz0gbGVuZ3RoOwoKICAgICAgY29uc3QgYmFzZTY0ID0gYnRvYShTdHJpbmcuZnJvbUNoYXJDb2RlLmFwcGx5KG51bGwsIGNodW5rKSk7CiAgICAgIHlpZWxkIHsKICAgICAgICByZXNwb25zZTogewogICAgICAgICAgYWN0aW9uOiAnYXBwZW5kJywKICAgICAgICAgIGZpbGU6IGZpbGUubmFtZSwKICAgICAgICAgIGRhdGE6IGJhc2U2NCwKICAgICAgICB9LAogICAgICB9OwogICAgICBwZXJjZW50LnRleHRDb250ZW50ID0KICAgICAgICAgIGAke01hdGgucm91bmQoKHBvc2l0aW9uIC8gZmlsZURhdGEuYnl0ZUxlbmd0aCkgKiAxMDApfSUgZG9uZWA7CiAgICB9CiAgfQoKICAvLyBBbGwgZG9uZS4KICB5aWVsZCB7CiAgICByZXNwb25zZTogewogICAgICBhY3Rpb246ICdjb21wbGV0ZScsCiAgICB9CiAgfTsKfQoKc2NvcGUuZ29vZ2xlID0gc2NvcGUuZ29vZ2xlIHx8IHt9OwpzY29wZS5nb29nbGUuY29sYWIgPSBzY29wZS5nb29nbGUuY29sYWIgfHwge307CnNjb3BlLmdvb2dsZS5jb2xhYi5fZmlsZXMgPSB7CiAgX3VwbG9hZEZpbGVzLAogIF91cGxvYWRGaWxlc0NvbnRpbnVlLAp9Owp9KShzZWxmKTsK",
              "ok": true,
              "headers": [
                [
                  "content-type",
                  "application/javascript"
                ]
              ],
              "status": 200,
              "status_text": ""
            }
          },
          "base_uri": "https://localhost:8080/",
          "height": 111
        },
        "outputId": "fd960efb-b198-4618-d9ab-ce017c14885d"
      },
      "source": [
        "from google.colab import files\n",
        "files.upload()"
      ],
      "execution_count": null,
      "outputs": [
        {
          "output_type": "display_data",
          "data": {
            "text/html": [
              "\n",
              "     <input type=\"file\" id=\"files-17e06626-2567-4838-85cc-5dd1198fdd4c\" name=\"files[]\" multiple disabled\n",
              "        style=\"border:none\" />\n",
              "     <output id=\"result-17e06626-2567-4838-85cc-5dd1198fdd4c\">\n",
              "      Upload widget is only available when the cell has been executed in the\n",
              "      current browser session. Please rerun this cell to enable.\n",
              "      </output>\n",
              "      <script src=\"/nbextensions/google.colab/files.js\"></script> "
            ],
            "text/plain": [
              "<IPython.core.display.HTML object>"
            ]
          },
          "metadata": {
            "tags": []
          }
        },
        {
          "output_type": "stream",
          "text": [
            "Saving DataSeerGrabPrizeData.csv to DataSeerGrabPrizeData (1).csv\n"
          ],
          "name": "stdout"
        },
        {
          "output_type": "execute_result",
          "data": {
            "text/plain": [
              "{'DataSeerGrabPrizeData.csv': b'source,created_at_local,pick_up_latitude,pick_up_longitude,drop_off_latitude,drop_off_longitude,city,fare,pick_up_distance,state\\r\\nADR,2013-09-22 23:46:18,14.604348,120.998654,14.53737,120.994423,Metro Manila,281.875,0.389894,CANCELLED\\r\\nT47,2013-11-04 3:51:59,14.590099,121.082645,14.508611,121.019444,Metro Manila,413.125,2.20977,COMPLETED\\r\\nT47,2013-11-21 5:21:24,14.582707,121.061458,14.537752,121.001379,Metro Manila,277.5,2.70291,COMPLETED\\r\\nADR,2013-09-16 20:53:34,14.585812,121.060171,14.575915,121.085487,Metro Manila,220.625,0.321403,CANCELLED\\r\\nIOS,2013-09-10 23:49:16,14.55201,121.05126,14.63021,120.99592,Metro Manila,378.125,0.667067,COMPLETED\\r\\nT47,2013-11-12 21:26:18,14.589394,121.059928,14.444546,120.993874,Metro Manila,505,0.289595,COMPLETED\\r\\nIOS,2013-11-16 18:27:06,14.58645,121.04887,14.63925,121.03681,Metro Manila,229.375,1.54755,COMPLETED\\r\\nT47,2013-09-21 9:47:03,14.588782,121.097317,14.583526,121.05698,Metro Manila,211.875,2.91636,COMPLETED\\r\\nIOS,2013-08-28 18:37:49,14.60688,121.08063,14.61947,121.08618,Metro Manila,163.75,0.854165,COMPLETED\\r\\nIOS,2013-12-18 16:14:03,14.58073,121.05603,14.58568,121.07864,Metro Manila,176.875,0.713984,COMPLETED\\r\\nT47,2013-10-09 21:09:54,14.606341,121.072206,14.65073,121.102855,Metro Manila,255.625,2.13367,COMPLETED\\r\\nIOS,2013-09-27 19:07:23,14.5867,121.06216,14.55264,121.02509,Metro Manila,220.625,0.475091,COMPLETED\\r\\nIOS,2013-12-06 22:54:56,14.52066,121.0136,14.57923,121.024,Metro Manila,238.125,1.97401,COMPLETED\\r\\nIOS,2013-10-11 22:12:15,14.55184,121.02194,14.57944,121.03592,Metro Manila,207.5,0.484101,COMPLETED\\r\\nIOS,2013-09-23 17:37:21,14.55287,121.0471,14.55096,121.0233,Metro Manila,190,0.941629,COMPLETED\\r\\nIOS,2013-09-01 12:08:12,14.5764,121.03972,14.55201,121.05126,Metro Manila,216.25,1.29251,CANCELLED\\r\\nIOS,2013-09-19 12:30:30,14.55585,121.02357,14.55083,121.0542,Metro Manila,203.125,0.227643,COMPLETED\\r\\nADR,2013-10-03 13:51:14,14.551341,121.016678,14.549732,121.02677,Metro Manila,168.125,0.638074,COMPLETED\\r\\nIOS,2013-09-28 0:25:21,14.55213,121.02282,14.61825,120.98596,Metro Manila,312.5,1.78689,COMPLETED\\r\\nADR,2013-09-09 7:50:42,14.561096,121.076607,14.592875,121.028582,Metro Manila,255.625,3.42448,CANCELLED\\r\\nADR,2013-09-13 22:36:32,14.554809,121.047631,14.574944,120.984938,Metro Manila,308.125,0.647543,COMPLETED\\r\\nIOS,2013-09-18 10:39:33,14.57301,121.07686,14.57013,121.04709,Metro Manila,225,2.10955,COMPLETED\\r\\nIOS,2013-09-18 19:53:27,14.58175,121.06103,14.54013,120.99827,Metro Manila,290.625,0.757028,COMPLETED\\r\\nIOS,2013-09-11 7:24:55,14.57034,121.05617,14.58388,121.05693,Metro Manila,176.875,1.00364,COMPLETED\\r\\nIOS,2013-09-10 22:07:32,14.55317,121.02572,14.57751,121.03378,Metro Manila,207.5,0.643453,COMPLETED\\r\\nIOS,2013-08-29 12:37:28,14.54224,121.0264,14.55495,121.01552,Metro Manila,168.125,1.09464,COMPLETED\\r\\nT47,2013-09-14 2:04:46,14.567198,121.092266,14.508611,121.019444,Metro Manila,338.75,2.18035,COMPLETED\\r\\nT47,2013-09-05 5:14:32,14.575374,121.091092,14.554729,121.024445,Metro Manila,273.125,0.407294,CANCELLED\\r\\nADR,2013-10-18 18:41:19,14.576377,121.085106,14.663866,120.944861,Metro Manila,474.375,3.66117,COMPLETED\\r\\nIOS,2013-09-29 19:50:16,14.5813,121.058,14.60955,121.0468,Metro Manila,211.875,0.700703,COMPLETED\\r\\nIOS,2013-10-29 17:34:46,14.5764,121.085,14.58164,121.05819,Metro Manila,216.25,2.52053,CANCELLED\\r\\nIOS,2013-09-19 7:27:13,14.55083,121.0542,14.66588,121.0894,Metro Manila,382.5,0.576761,CANCELLED\\r\\nIOS,2013-11-16 4:13:32,14.5607,121.02021,14.51955,121.0138,Metro Manila,268.75,0.26669,COMPLETED\\r\\nT47,2013-10-22 16:05:44,14.553006,121.05213,14.608855,121.079789,Metro Manila,255.625,0.701896,COMPLETED\\r\\nT47,2013-11-17 14:53:51,14.582707,121.061458,14.554729,121.024445,Metro Manila,211.875,0.549624,COMPLETED\\r\\nT47,2013-10-29 8:18:51,14.579444,121.035917,14.554729,121.024445,Metro Manila,220.625,3.04088,COMPLETED\\r\\nIOS,2013-10-14 6:51:12,14.61722,121.06307,14.55473,121.02445,Metro Manila,299.375,0.902487,COMPLETED\\r\\nIOS,2013-09-30 22:52:08,14.51955,121.0138,14.58645,121.04887,Metro Manila,334.375,0.930853,COMPLETED\\r\\nT47,2013-09-22 18:35:53,14.554729,121.024445,14.516241,120.985481,Metro Manila,260,1.10699,COMPLETED\\r\\nIOS,2013-12-23 15:31:52,14.55776,121.10373,14.58386,121.05712,Metro Manila,225,0.41597,CANCELLED\\r\\nT47,2013-09-17 3:12:44,14.57127,121.099476,14.508611,121.019444,Metro Manila,373.75,2.08132,COMPLETED\\r\\nT47,2013-11-24 22:38:38,14.681922,121.04211,14.488009,121.04544,Metro Manila,0,,UNALLOCATED\\r\\nT47,2013-10-08 3:30:48,12.879721,121.774017,14.508611,121.019444,Metro Manila,0,,UNALLOCATED\\r\\nT47,2013-09-13 8:11:27,14.576147,121.080195,14.532155,120.983868,Metro Manila,0,,UNALLOCATED\\r\\nT47,2013-10-23 18:23:09,14.569208,121.060157,14.444546,120.993874,Metro Manila,0,,UNALLOCATED\\r\\nT47,2013-10-24 9:04:26,14.556254,121.074355,14.589819,121.069161,Metro Manila,0,,UNALLOCATED\\r\\nT47,2013-11-05 11:23:46,14.604869,121.037924,14.508611,121.019444,Metro Manila,0,,UNALLOCATED\\r\\nT47,2013-12-16 5:34:53,14.549346,121.099429,14.589819,121.069161,Metro Manila,0,,UNALLOCATED\\r\\nT47,2013-10-01 20:20:24,14.557461,121.020717,14.564148,121.030328,Metro Manila,0,,UNALLOCATED\\r\\nT47,2013-09-01 13:04:57,14.630462,121.066474,14.585469,121.05622,Metro Manila,0,,UNALLOCATED\\r\\nT47,2013-09-07 8:15:30,14.587251,121.051652,14.601968,121.049672,Metro Manila,0,,UNALLOCATED\\r\\nT47,2013-09-19 15:10:39,14.541965,121.038975,14.554729,121.024445,Metro Manila,0,,UNALLOCATED\\r\\nT47,2013-10-29 13:15:53,14.638214,121.122688,14.616595,121.077221,Metro Manila,0,,UNALLOCATED\\r\\nT47,2013-09-11 7:34:32,14.586397,121.050083,14.590099,121.082645,Metro Manila,0,,UNALLOCATED\\r\\nT47,2013-09-11 3:06:34,14.702179,121.06821,14.508611,121.019444,Metro Manila,0,,UNALLOCATED\\r\\nT47,2013-09-16 11:47:34,14.580759,121.092371,14.589844,121.060554,Metro Manila,0,,UNALLOCATED\\r\\nT47,2013-09-18 21:57:56,14.589044,121.074982,14.65073,121.102855,Metro Manila,0,,UNALLOCATED\\r\\nT47,2013-09-20 17:02:06,14.58706,121.062085,14.554729,121.024445,Metro Manila,0,,UNALLOCATED\\r\\nT47,2013-10-04 7:11:25,14.572162,121.029725,14.554729,121.024445,Metro Manila,0,,UNALLOCATED\\r\\nT47,2013-10-04 9:48:59,14.586975,121.022829,14.537752,121.001379,Metro Manila,0,,UNALLOCATED\\r\\nT47,2013-10-07 7:54:01,14.567347,121.06652,14.554729,121.024445,Metro Manila,0,,UNALLOCATED\\r\\nT47,2013-10-16 5:56:27,14.53416,121.017742,14.508611,121.019444,Metro Manila,0,,UNALLOCATED\\r\\nT47,2013-11-06 7:21:42,14.553939,121.006272,14.642983,121.043931,Metro Manila,0,,UNALLOCATED\\r\\nT47,2013-10-20 9:49:57,14.417032,121.047617,14.517618,121.050864,Metro Manila,0,,UNALLOCATED\\r\\nT47,2013-10-26 12:13:13,14.59942,121.122571,14.608855,121.079789,Metro Manila,0,,UNALLOCATED\\r\\nT47,2013-12-05 16:10:55,14.585192,121.061324,14.508611,121.019444,Metro Manila,0,,UNALLOCATED\\r\\nT47,2013-10-31 12:19:13,14.554872,121.02034,14.6135,121.034,Metro Manila,0,,UNALLOCATED\\r\\nT47,2013-11-03 10:57:16,14.588416,121.03136,14.580692,121.055368,Metro Manila,0,,UNALLOCATED\\r\\nT47,2013-11-08 9:43:33,14.48096,121.038096,14.508611,121.019444,Metro Manila,0,,UNALLOCATED\\r\\nT47,2013-11-11 12:45:42,14.419502,121.038702,14.417032,121.047617,Metro Manila,0,,UNALLOCATED\\r\\nT47,2013-11-15 16:31:31,14.585383,121.060294,14.508611,121.019444,Metro Manila,0,,UNALLOCATED\\r\\nT47,2013-11-23 18:16:30,14.576876,121.087967,14.608855,121.079789,Metro Manila,0,,UNALLOCATED\\r\\nT47,2013-11-28 15:17:03,14.47931,121.019823,14.734787,121.061207,Metro Manila,0,,UNALLOCATED\\r\\nVNU,2013-12-29 17:35:15,14.549732,121.02677,14.517618,121.050864,Metro Manila,203.125,0.0564028,COMPLETED\\r\\nADR,2013-09-10 7:36:10,14.526282,121.042728,14.558117,121.016979,Metro Manila,268.75,1.36108,COMPLETED\\r\\nIOS,2013-10-02 6:06:19,14.67002,121.04605,14.55542,121.01563,Metro Manila,456.875,0.560846,COMPLETED\\r\\nIOS,2013-09-08 13:58:18,14.59399,121.10122,14.58386,121.05712,Metro Manila,225,1.31195,COMPLETED\\r\\nIOS,2013-10-14 20:27:19,14.54658,121.03437,14.57702,121.05008,Metro Manila,225,1.0097,COMPLETED\\r\\nIOS,2013-09-08 23:11:52,14.50687,121.00403,14.51955,121.0138,Metro Manila,207.5,0.379175,COMPLETED\\r\\nADR,2013-09-12 7:58:23,14.484485,120.994899,14.594508,120.977008,Metro Manila,343.125,4.91656,COMPLETED\\r\\nIOS,2013-09-16 7:49:51,14.56351,121.01006,14.58167,120.98442,Metro Manila,229.375,1.42916,CANCELLED\\r\\nADR,2013-09-04 12:49:05,14.620332,121.067353,14.610421,121.080037,Metro Manila,185.625,0.41653,CANCELLED\\r\\nADR,2013-09-20 20:42:07,14.599629,121.049253,14.585837,121.059294,Metro Manila,168.125,3.22331,CANCELLED\\r\\nIOS,2013-10-08 17:53:38,14.55648,121.02229,14.55291,120.9801,Metro Manila,220.625,0.142734,COMPLETED\\r\\nIOS,2013-10-01 19:06:02,14.57297,120.98816,14.54985,121.04731,Metro Manila,312.5,2.54063,COMPLETED\\r\\nIOS,2013-09-24 18:16:41,14.66352,121.08412,14.61042,121.08004,Metro Manila,268.75,5.16029,CANCELLED\\r\\nIOS,2013-08-28 10:37:22,14.57301,121.07686,14.5509,121.05358,Metro Manila,216.25,3.32716,CANCELLED\\r\\nIOS,2013-09-02 13:41:00,14.55407,121.04838,14.55,121.03333,Metro Manila,181.25,0.279559,CANCELLED\\r\\nIOS,2013-09-20 19:35:36,14.5622,121.01944,14.58164,121.05819,Metro Manila,207.5,1.76581,COMPLETED\\r\\nVNU,2013-11-05 15:45:07,14.549732,121.02677,14.537751,121.001379,Metro Manila,185.625,0.0958919,COMPLETED\\r\\nIOS,2013-09-23 7:34:01,14.57172,121.04984,14.55666,121.02439,Metro Manila,216.25,1.88311,COMPLETED\\r\\nIOS,2013-10-17 9:10:22,14.57216,121.02972,14.57956,121.04538,Metro Manila,172.5,0.608247,COMPLETED\\r\\nIOS,2013-10-04 19:15:51,14.58584,121.05929,14.55171,121.02727,Metro Manila,216.25,1.62199,CANCELLED\\r\\nADR,2013-09-16 8:19:05,14.563446,121.038366,14.557376,121.015098,Metro Manila,198.75,2.37313,COMPLETED\\r\\nIOS,2013-09-12 17:49:27,14.55708,121.02119,14.5212,121.06217,Metro Manila,273.125,0.0930445,CANCELLED\\r\\nIOS,2013-09-30 8:48:43,14.55795,121.00376,14.55346,121.02249,Metro Manila,168.125,0.794649,COMPLETED\\r\\nADR,2013-09-21 15:21:57,14.565287,121.028072,14.558852,121.023075,Metro Manila,159.375,2.39991,COMPLETED\\r\\nIOS,2013-09-17 9:22:04,14.57422,121.04198,14.58386,121.05712,Metro Manila,190,0.716697,CANCELLED\\r\\nIOS,2013-09-01 12:25:37,14.57781,121.00013,14.50977,121.01326,Metro Manila,299.375,3.65212,COMPLETED\\r\\nVNU,2013-11-05 19:46:56,14.549732,121.02677,14.554729,121.024445,Metro Manila,150.625,0.114531,COMPLETED\\r\\nIOS,2013-09-30 17:30:53,14.59066,121.03376,14.5608,121.01641,Metro Manila,268.75,0.943497,COMPLETED\\r\\nIOS,2013-10-27 19:09:56,14.6006,121.02797,14.60206,121.0485,Metro Manila,181.25,0.486294,COMPLETED\\r\\nVNU,2013-12-16 16:10:14,14.549732,121.02677,14.554729,121.024445,Metro Manila,150.625,0.270427,COMPLETED\\r\\nIOS,2013-08-31 15:21:01,14.61856,121.04269,14.54964,121.0514,Metro Manila,325.625,2.44104,COMPLETED\\r\\nADR,2013-10-01 15:49:45,14.588377,121.063294,14.559256,121.018061,Metro Manila,264.375,0.221565,COMPLETED\\r\\nIOS,2013-12-11 14:04:05,14.61501,121.06313,14.63485,121.10389,Metro Manila,211.875,1.02054,COMPLETED\\r\\nIOS,2013-09-06 17:31:24,14.58257,121.05966,14.59964,121.0564,Metro Manila,181.25,0.254203,COMPLETED\\r\\nIOS,2013-09-14 11:08:42,14.58157,121.04734,14.58069,121.05537,Metro Manila,172.5,1.38649,COMPLETED\\r\\nIOS,2013-09-20 8:11:49,14.57216,121.02972,14.60769,121.0786,Metro Manila,233.75,0.481283,COMPLETED\\r\\nVNU,2013-12-15 21:04:36,14.549732,121.02677,14.676041,121.0437,Metro Manila,404.375,0.057063,COMPLETED\\r\\nIOS,2013-09-24 8:36:49,14.5974,121.02243,14.57825,121.05752,Metro Manila,203.125,1.6725,COMPLETED\\r\\nADR,2013-09-24 23:19:04,14.652117,121.068297,14.642479,121.039349,Metro Manila,264.375,1.64267,CANCELLED\\r\\nADR,2013-09-09 8:51:19,14.632334,121.060081,14.627761,121.034516,Metro Manila,181.25,2.10127,COMPLETED\\r\\nIOS,2013-10-05 17:11:04,14.57834,121.03293,14.58984,121.06055,Metro Manila,220.625,0.76908,COMPLETED\\r\\nIOS,2013-10-01 16:16:15,14.58962,121.06795,14.58147,121.06437,Metro Manila,168.125,3.14623,COMPLETED\\r\\nADR,2013-09-10 11:55:09,14.588853,120.9967,14.560802,121.016413,Metro Manila,220.625,1.66257,COMPLETED\\r\\nIOS,2013-10-07 17:32:46,14.58948,121.06377,14.62388,121.06175,Metro Manila,211.875,1.83117,CANCELLED\\r\\nIOS,2013-09-10 7:08:37,14.572,121.03078,14.55808,121.02225,Metro Manila,176.875,1.70789,COMPLETED\\r\\nIOS,2013-09-06 18:12:04,14.6135,121.034,14.63454,121.03569,Metro Manila,172.5,1.20775,COMPLETED\\r\\nIOS,2013-10-04 16:16:42,14.61326,121.06033,14.65181,120.96584,Metro Manila,347.5,0.626356,COMPLETED\\r\\nADR,2013-09-15 13:49:13,14.672876,121.059419,14.681922,121.04211,Metro Manila,181.25,2.10017,COMPLETED\\r\\nIOS,2013-09-04 16:11:30,14.56195,120.99358,14.5301,121.05384,Metro Manila,334.375,0.806738,COMPLETED\\r\\nADR,2013-10-27 15:39:15,14.593057,121.038674,14.519562,121.013791,Metro Manila,325.625,1.67347,COMPLETED\\r\\nIOS,2013-09-09 10:24:59,14.55251,120.99497,14.58202,120.98288,Metro Manila,229.375,1.86801,COMPLETED\\r\\nIOS,2013-09-17 8:15:36,14.5322,121.0208,14.55282,121.02107,Metro Manila,198.75,3.09321,COMPLETED\\r\\nADR,2013-11-30 10:39:12,14.572162,121.029725,14.640625,121.076505,Metro Manila,321.25,0.303037,COMPLETED\\r\\nIOS,2013-09-16 7:26:36,14.60659,120.99333,14.55574,121.02239,Metro Manila,264.375,0.69063,COMPLETED\\r\\nADR,2013-09-18 22:13:56,14.616125,121.039244,14.637492,121.000898,Metro Manila,238.125,0.995822,COMPLETED\\r\\nIOS,2013-09-28 18:23:07,14.6159,121.09513,14.62045,121.05322,Metro Manila,255.625,1.7849,COMPLETED\\r\\nVNU,2013-12-10 15:30:43,14.549732,121.02677,14.554729,121.024445,Metro Manila,150.625,0.0690563,COMPLETED\\r\\nIOS,2013-09-05 8:14:17,14.58752,121.089,14.58725,121.06476,Metro Manila,207.5,1.02456,COMPLETED\\r\\nIOS,2013-10-18 15:13:59,14.57838,120.988,14.55056,121.01507,Metro Manila,220.625,0.168549,COMPLETED\\r\\nIOS,2013-10-02 20:46:53,14.541,121.028,14.58388,121.05693,Metro Manila,233.75,1.97373,COMPLETED\\r\\nADR,2013-09-03 23:10:14,14.550646,121.026614,14.606622,120.97958,Metro Manila,316.875,0.0318716,CANCELLED\\r\\nADR,2013-09-27 23:14:06,14.577805,121.062899,14.561158,121.022669,Metro Manila,238.125,1.74549,COMPLETED\\r\\nADR,2013-09-16 23:49:20,14.586454,121.048871,14.621172,121.062944,Metro Manila,238.125,0.401772,COMPLETED\\r\\nVNU,2013-11-22 20:57:38,14.549732,121.02677,14.537751,121.001379,Metro Manila,185.625,1.42012,COMPLETED\\r\\nADR,2013-09-03 21:57:29,14.540922,121.018642,14.654422,121.034945,Metro Manila,369.375,1.88936,COMPLETED\\r\\nIOS,2013-12-24 17:07:34,14.6535,121.03349,14.63848,121.07348,Metro Manila,242.5,0.22015,COMPLETED\\r\\nADR,2013-09-24 15:07:28,14.554716,121.014457,14.426363,121.009233,Metro Manila,443.75,0.43311,COMPLETED\\r\\nADR,2013-09-05 9:37:34,14.576061,121.050516,14.556418,121.017758,Metro Manila,238.125,0.57685,COMPLETED\\r\\nIOS,2013-12-19 9:54:04,14.58972,121.06154,14.58398,121.06323,Metro Manila,150.625,0.354453,CANCELLED\\r\\nADR,2013-09-01 6:12:21,14.688088,121.04856,14.610046,120.989156,Metro Manila,338.75,0.976079,COMPLETED\\r\\nIOS,2013-10-04 17:12:02,14.55321,121.05063,14.58069,121.05537,Metro Manila,225,2.40892,COMPLETED\\r\\nIOS,2013-10-24 7:34:38,14.54251,121.04706,14.55001,121.04597,Metro Manila,155,1.34056,CANCELLED\\r\\nIOS,2013-12-28 21:35:09,14.57297,121.07715,14.54894,121.04692,Metro Manila,203.125,0.804426,COMPLETED\\r\\nADR,2013-09-05 8:23:22,14.6025,121.026667,14.552473,121.018728,Metro Manila,246.875,2.67911,COMPLETED\\r\\nADR,2013-09-28 4:33:21,14.554928,121.044277,14.558791,121.003286,Metro Manila,229.375,1.81032,CANCELLED\\r\\nIOS,2013-09-17 7:19:01,14.57457,121.00454,14.57172,121.04984,Metro Manila,295,0.975929,COMPLETED\\r\\nIOS,2013-09-16 4:37:54,14.5625,121.03066,14.58747,121.06115,Metro Manila,225,3.96246,COMPLETED\\r\\nADR,2013-09-23 7:20:51,14.625231,121.050214,14.554073,121.048377,Metro Manila,290.625,0.483302,CANCELLED\\r\\nIOS,2013-10-05 19:05:22,14.66512,121.08081,14.55184,121.02194,Metro Manila,395.625,1.42963,CANCELLED\\r\\nIOS,2013-09-03 6:06:41,14.67002,121.04605,14.55542,121.01563,Metro Manila,404.375,1.30728,COMPLETED\\r\\nADR,2013-09-10 22:17:45,14.5867,121.05977,14.549547,121.056075,Metro Manila,229.375,0.554729,COMPLETED\\r\\nVNU,2013-11-05 18:35:06,14.549732,121.02677,14.554729,121.024445,Metro Manila,150.625,0.332815,COMPLETED\\r\\nIOS,2013-09-27 7:13:22,14.63821,121.12269,14.5509,121.05358,Metro Manila,316.875,4.22748,COMPLETED\\r\\nVNU,2013-10-25 14:04:00,14.549732,121.02677,14.554729,121.024445,Metro Manila,155,0.646215,COMPLETED\\r\\nIOS,2013-12-06 22:42:31,14.54586,121.05375,14.52875,121.05791,Metro Manila,168.125,1.21408,CANCELLED\\r\\nADR,2013-09-03 23:03:49,14.583865,121.057123,14.681537,121.079228,Metro Manila,360.625,2.41149,COMPLETED\\r\\nIOS,2013-08-28 9:23:51,14.5608,121.01641,14.64941,121.10108,Metro Manila,386.875,0.991414,COMPLETED\\r\\nADR,2013-09-27 7:06:25,14.557645,121.010783,14.545862,121.053755,Metro Manila,211.875,0.632192,COMPLETED\\r\\nIOS,2013-09-29 13:24:17,14.59882,121.09775,14.55287,121.0517,Metro Manila,268.75,0.705635,COMPLETED\\r\\nADR,2013-09-23 9:35:56,14.572162,121.029725,14.579559,121.045382,Metro Manila,168.125,1.23462,COMPLETED\\r\\nIOS,2013-10-08 12:05:32,14.61673,121.02722,14.60197,121.04967,Metro Manila,194.375,0.825193,COMPLETED\\r\\nIOS,2013-08-30 11:31:58,14.56785,121.02311,14.88148,120.86712,Metro Manila,811.25,0.087465,COMPLETED\\r\\nADR,2013-09-20 21:31:54,14.561372,121.028523,14.551694,121.021796,Metro Manila,159.375,0.114763,COMPLETED\\r\\nADR,2013-09-30 10:09:03,14.582952,121.105695,14.535058,120.982132,Metro Manila,347.5,3.38744,COMPLETED\\r\\nADR,2013-09-27 22:21:38,14.580619,121.05526,14.553167,121.025722,Metro Manila,220.625,0.17798,COMPLETED\\r\\nADR,2013-10-01 21:04:25,14.621725,121.080359,14.556656,121.024395,Metro Manila,321.25,1.71827,CANCELLED\\r\\nADR,2013-09-15 16:28:10,14.50981,121.010752,14.787072,120.882397,Metro Manila,701.875,1.88273,COMPLETED\\r\\nIOS,2013-12-19 9:00:26,14.5721,121.07107,14.55809,121.01736,Metro Manila,260,2.16908,COMPLETED\\r\\nIOS,2013-09-25 0:49:24,14.5508,120.98705,14.56071,121.01748,Metro Manila,190,3.16837,COMPLETED\\r\\nIOS,2013-09-19 7:25:44,14.55589,121.0052,14.60254,120.98687,Metro Manila,220.625,1.29826,CANCELLED\\r\\nADR,2013-09-13 19:38:49,14.558117,121.016979,14.436506,120.960384,Metro Manila,408.75,0.971561,COMPLETED\\r\\nIOS,2013-08-31 15:28:11,14.54644,121.0619,14.58321,121.0568,Metro Manila,238.125,0.419137,CANCELLED\\r\\nADR,2013-10-02 7:48:23,14.575074,121.044081,14.557645,121.018771,Metro Manila,216.25,2.52691,CANCELLED\\r\\nVNU,2013-12-09 21:38:05,14.549732,121.02677,14.554729,121.024445,Metro Manila,150.625,0.21178,COMPLETED\\r\\nADR,2013-10-02 23:50:41,14.59591,121.058677,14.586257,121.044265,Metro Manila,190,1.19535,CANCELLED\\r\\nIOS,2013-10-02 22:31:12,14.64818,121.02764,14.58553,121.03781,Metro Manila,343.125,1.30078,COMPLETED\\r\\nIOS,2013-12-26 9:24:25,14.57188,121.00279,14.52313,121.00093,Metro Manila,295,1.0373,COMPLETED\\r\\nADR,2013-09-13 0:10:54,14.63498,121.06499,14.676041,121.0437,Metro Manila,268.75,2.6713,CANCELLED\\r\\nIOS,2013-10-04 7:45:54,14.57836,121.04758,14.55633,121.02124,Metro Manila,220.625,1.85412,COMPLETED\\r\\nADR,2013-09-25 19:56:00,14.549732,121.02677,14.45,120.95,Metro Manila,382.5,0.635711,COMPLETED\\r\\nIOS,2013-10-03 19:20:24,14.55456,121.02388,14.54955,121.05608,Metro Manila,229.375,2.03299,COMPLETED\\r\\nIOS,2013-10-07 7:57:17,14.54789,121.02133,14.56709,121.01342,Metro Manila,172.5,1.62575,COMPLETED\\r\\nIOS,2013-09-19 7:43:53,14.66948,121.10835,14.56921,121.06016,Metro Manila,316.875,0.637416,COMPLETED\\r\\nIOS,2013-10-06 21:24:22,14.59925,121.10824,14.63821,121.12269,Metro Manila,242.5,3.25674,CANCELLED\\r\\nIOS,2013-10-01 17:04:23,14.64861,121.07167,14.66565,121.08224,Metro Manila,190,3.2945,CANCELLED\\r\\nADR,2013-09-07 19:31:18,14.576274,121.070056,14.585812,121.060171,Metro Manila,176.875,1.52867,COMPLETED\\r\\nIOS,2013-11-22 20:16:26,14.55809,121.01736,14.56529,121.02807,Metro Manila,181.25,0.897371,COMPLETED\\r\\nIOS,2013-09-24 12:31:04,14.61605,121.05326,14.5867,121.06216,Metro Manila,190,0.312559,COMPLETED\\r\\nADR,2013-10-07 18:09:39,14.560802,121.016413,14.629133,121.066349,Metro Manila,325.625,1.41669,CANCELLED\\r\\nIOS,2013-11-28 0:09:28,14.5282,121.0421,14.65749,121.05612,Metro Manila,443.75,1.12747,COMPLETED\\r\\nIOS,2013-09-29 4:53:28,14.60886,121.08001,14.46812,120.98096,Metro Manila,491.875,2.27394,COMPLETED\\r\\nIOS,2013-09-24 9:47:23,14.61003,121.09177,14.60769,121.0786,Metro Manila,176.875,1.14138,COMPLETED\\r\\nIOS,2013-09-28 18:24:37,14.55132,121.02541,14.56623,121.01024,Metro Manila,233.75,0.485066,COMPLETED\\r\\nVNU,2013-11-25 20:50:13,14.549732,121.02677,14.553065,121.024445,Metro Manila,155,0.33231,COMPLETED\\r\\nVNU,2013-10-23 14:14:08,14.549732,121.02677,14.537751,121.001379,Metro Manila,185.625,0.668469,CANCELLED\\r\\nIOS,2013-11-04 8:22:04,14.5761,121.03046,14.55851,121.01916,Metro Manila,190,0.708514,CANCELLED\\r\\nIOS,2013-10-24 9:38:13,14.54309,121.01327,14.55921,121.0176,Metro Manila,211.875,0.21462,COMPLETED\\r\\nIOS,2013-10-10 8:43:47,14.57216,121.02972,14.57956,121.04538,Metro Manila,172.5,1.86047,COMPLETED\\r\\nADR,2013-10-12 0:00:02,14.582395,121.062987,14.625309,120.969724,Metro Manila,435,0.563722,COMPLETED\\r\\nADR,2013-09-26 5:26:15,14.555015,121.017428,14.50549,121.004878,Metro Manila,277.5,0.54084,COMPLETED\\r\\nIOS,2013-09-29 18:33:01,14.61104,120.9802,14.60833,120.99102,Metro Manila,168.125,2.21018,CANCELLED\\r\\nIOS,2013-09-05 11:38:51,14.64275,121.05762,14.55261,121.02542,Metro Manila,343.125,1.06667,COMPLETED\\r\\nIOS,2013-12-20 20:16:34,14.53635,120.98495,14.4903,121.02108,Metro Manila,233.75,0.584112,COMPLETED\\r\\nIOS,2013-09-20 19:02:31,14.49346,121.04292,14.54999,121.04818,Metro Manila,273.125,1.17484,COMPLETED\\r\\nADR,2013-10-01 18:54:35,14.465721,121.043702,14.552889,121.047089,Metro Manila,338.75,3.80831,CANCELLED\\r\\nADR,2013-09-05 5:28:22,14.534746,121.038163,14.62746,121.038527,Metro Manila,386.875,1.94818,COMPLETED\\r\\nIOS,2013-09-18 8:36:10,14.48802,121.04442,14.55857,121.02568,Metro Manila,281.875,1.53968,COMPLETED\\r\\nADR,2013-09-15 12:20:47,14.587596,121.060232,14.572133,121.015579,Metro Manila,260,1.24228,CANCELLED\\r\\nADR,2013-08-29 17:52:33,14.558159,121.018272,14.554672,121.050665,Metro Manila,190,0.248744,COMPLETED\\r\\nIOS,2013-09-17 18:18:56,14.57954,120.98492,14.60895,120.99305,Metro Manila,203.125,3.23484,COMPLETED\\r\\nIOS,2013-09-21 7:46:33,14.64283,121.05113,14.57401,121.04779,Metro Manila,268.75,0.259912,COMPLETED\\r\\nADR,2013-12-17 17:24:11,14.549529,121.063558,14.549287,121.04624,Metro Manila,168.125,0.773175,COMPLETED\\r\\nIOS,2013-10-21 16:29:26,14.56008,121.02084,14.64307,121.03768,Metro Manila,343.125,1.26787,COMPLETED\\r\\nIOS,2013-09-11 19:38:29,14.61811,121.05629,14.61459,121.06172,Metro Manila,155,0.629705,CANCELLED\\r\\nADR,2013-09-27 12:10:15,14.551284,121.016912,14.557589,121.022996,Metro Manila,155,0.255674,CANCELLED\\r\\nADR,2013-10-02 7:59:16,14.543135,121.011761,14.560051,121.020484,Metro Manila,172.5,1.51238,COMPLETED\\r\\nIOS,2013-10-04 22:32:39,14.56308,121.01476,14.62554,121.04837,Metro Manila,321.25,0.422137,CANCELLED\\r\\nIOS,2013-10-08 8:16:05,14.57087,121.00432,14.56363,121.02878,Metro Manila,190,1.3596,COMPLETED\\r\\nADR,2013-09-17 3:48:30,14.57302,121.077087,14.519546,121.013797,Metro Manila,334.375,1.8725,COMPLETED\\r\\nADR,2013-08-30 22:41:58,14.55778,121.097133,14.59549,121.080008,Metro Manila,229.375,2.97858,COMPLETED\\r\\nIOS,2013-09-30 23:52:13,14.52454,121.04382,14.63759,121.01255,Metro Manila,413.125,0.193769,COMPLETED\\r\\nADR,2013-10-01 10:00:29,14.580188,121.03282,14.553584,121.048114,Metro Manila,190,2.89357,CANCELLED\\r\\nIOS,2013-11-15 21:39:46,14.55184,121.02194,14.48068,121.03049,Metro Manila,255.625,0.41275,COMPLETED\\r\\nIOS,2013-08-29 11:13:37,14.6519,121.01797,14.60557,120.99321,Metro Manila,233.75,1.78548,CANCELLED\\r\\nIOS,2013-09-05 18:04:39,14.58202,120.98288,14.55862,121.00598,Metro Manila,203.125,0.946427,COMPLETED\\r\\nIOS,2013-12-13 19:25:06,14.56189,121.0113,14.56506,121.0362,Metro Manila,181.25,0.918325,COMPLETED\\r\\nIOS,2013-09-04 14:20:09,14.56547,121.0164,14.55,121.03333,Metro Manila,190,1.32104,COMPLETED\\r\\nIOS,2013-09-30 17:16:45,14.55467,121.05066,14.55713,121.01057,Metro Manila,238.125,1.47831,COMPLETED\\r\\nADR,2013-10-23 5:30:59,14.559804,121.00095,14.564337,120.99645,Metro Manila,155,1.7326,COMPLETED\\r\\nIOS,2013-10-11 20:13:58,14.55378,121.04582,14.55648,121.02229,Metro Manila,198.75,0.412586,CANCELLED\\r\\nIOS,2013-10-29 22:50:39,14.5907,121.06099,14.57733,121.05956,Metro Manila,172.5,0.511693,CANCELLED\\r\\nIOS,2013-10-01 11:01:09,14.57018,121.02594,14.52447,121.00108,Metro Manila,277.5,0.994683,COMPLETED\\r\\nADR,2013-11-20 8:59:36,14.677405,121.014012,14.64413,121.048379,Metro Manila,255.625,1.28825,CANCELLED\\r\\nIOS,2013-12-18 8:42:08,14.64922,121.07907,14.64628,121.05093,Metro Manila,198.75,0.199974,COMPLETED\\r\\nVNU,2013-10-12 18:33:13,14.549732,121.02677,14.479309,121.019822,Metro Manila,316.875,0.156714,COMPLETED\\r\\nADR,2013-09-12 7:19:04,14.630018,121.037631,14.527456,121.006189,Metro Manila,369.375,3.29586,COMPLETED\\r\\nIOS,2013-10-02 18:23:43,14.55408,121.04588,14.55723,121.02175,Metro Manila,190,0.225694,COMPLETED\\r\\nVNU,2013-12-10 19:01:43,14.549732,121.02677,14.479309,121.019822,Metro Manila,255.625,1.47723,COMPLETED\\r\\nIOS,2013-09-17 18:05:21,14.55396,121.04448,14.56229,121.03078,Metro Manila,190,1.35152,COMPLETED\\r\\nADR,2013-10-01 11:27:40,14.574889,121.121275,14.58296,121.057459,Metro Manila,242.5,1.88642,COMPLETED\\r\\nIOS,2013-09-27 17:32:34,14.55305,121.01968,14.5633,121.0354,Metro Manila,198.75,0.208306,COMPLETED\\r\\nIOS,2013-12-17 9:58:43,14.61669,121.03917,14.6932,121.09346,Metro Manila,338.75,0.921724,COMPLETED\\r\\nIOS,2013-09-26 18:55:40,14.54971,121.05083,14.62045,121.05322,Metro Manila,281.875,0.647238,CANCELLED\\r\\nVNU,2013-10-31 19:16:29,14.549732,121.02677,14.537751,121.001379,Metro Manila,185.625,0.215276,COMPLETED\\r\\nADR,2013-09-25 8:32:37,14.542045,121.055547,14.550929,121.050986,Metro Manila,163.75,0.657404,COMPLETED\\r\\nIOS,2013-09-03 5:13:03,14.60837,121.07075,14.50969,121.0128,Metro Manila,386.875,1.16276,COMPLETED\\r\\nADR,2013-10-01 8:38:14,14.608435,121.026225,14.551315,121.025412,Metro Manila,233.75,0.405668,CANCELLED\\r\\nADR,2013-09-24 7:02:18,14.488649,121.040786,14.582436,120.985511,Metro Manila,316.875,0.569904,CANCELLED\\r\\nIOS,2013-09-27 20:48:25,14.58116,121.05505,14.62835,121.0547,Metro Manila,238.125,0.350984,COMPLETED\\r\\nIOS,2013-10-05 1:11:41,14.51758,121.05735,14.57216,121.02972,Metro Manila,316.875,2.96774,COMPLETED\\r\\nIOS,2013-11-21 18:46:34,14.58643,121.06136,14.60783,121.08025,Metro Manila,185.625,1.00964,COMPLETED\\r\\nADR,2013-10-14 10:41:59,14.586257,121.044265,14.596252,121.058958,Metro Manila,238.125,0.928889,COMPLETED\\r\\nADR,2013-09-24 8:53:40,14.570399,121.023515,14.554169,121.023597,Metro Manila,190,1.10936,COMPLETED\\r\\nIOS,2013-09-24 11:25:15,14.58752,121.08152,14.55481,121.04763,Metro Manila,233.75,0.750924,COMPLETED\\r\\nADR,2013-09-28 13:43:10,14.488649,121.040786,14.486973,121.043361,Metro Manila,146.25,1.27265,COMPLETED\\r\\nVNU,2013-10-20 16:28:17,14.549732,121.02677,14.479309,121.019822,Metro Manila,316.875,0.30092,CANCELLED\\r\\nADR,2013-09-12 23:19:57,14.5529,121.022,14.567089,121.013423,Metro Manila,176.875,1.08035,COMPLETED\\r\\nIOS,2013-09-24 9:00:24,14.63485,121.05196,14.56,121.03152,Metro Manila,312.5,0.742405,COMPLETED\\r\\nIOS,2013-09-01 18:11:25,14.57931,121.04729,14.57022,121.02187,Metro Manila,207.5,1.88578,CANCELLED\\r\\nIOS,2013-09-19 9:58:46,14.66796,121.0736,14.52182,121.01302,Metro Manila,465.625,2.74837,COMPLETED\\r\\nVNU,2013-11-06 12:38:43,14.549732,121.02677,14.554729,121.024445,Metro Manila,150.625,0.474528,COMPLETED\\r\\nVNU,2013-10-14 19:42:03,14.549732,121.02677,14.517618,121.050864,Metro Manila,242.5,0.399693,COMPLETED\\r\\nIOS,2013-12-13 20:20:41,14.59024,120.98305,14.55261,121.02542,Metro Manila,260,0.813389,COMPLETED\\r\\nIOS,2013-09-20 18:50:56,14.58714,121.06369,14.56947,121.10981,Metro Manila,251.25,1.68353,COMPLETED\\r\\nIOS,2013-11-18 8:41:27,14.5761,121.03046,14.55851,121.01916,Metro Manila,190,1.66895,CANCELLED\\r\\nIOS,2013-11-25 16:06:08,14.55324,121.04644,14.63134,121.05222,Metro Manila,303.75,0.323552,COMPLETED\\r\\nADR,2013-11-22 10:43:40,14.639479,121.061493,14.557872,121.018431,Metro Manila,369.375,1.80247,COMPLETED\\r\\nVNU,2013-12-18 14:27:10,14.549732,121.02677,14.554729,121.024445,Metro Manila,150.625,1.30215,COMPLETED\\r\\nIOS,2013-12-11 22:34:13,14.55535,121.01982,14.46539,121.01863,Metro Manila,378.125,1.48517,COMPLETED\\r\\nVNU,2013-11-16 17:36:24,14.549732,121.02677,14.549547,121.056075,Metro Manila,203.125,0.0587888,COMPLETED\\r\\nVNU,2013-12-01 19:11:18,14.549732,121.02677,14.554729,121.024445,Metro Manila,150.625,0.352421,COMPLETED\\r\\nVNU,2013-12-22 19:55:25,14.549732,121.02677,14.479309,121.019822,Metro Manila,255.625,0.0337978,COMPLETED\\r\\nIOS,2013-12-05 9:51:59,14.49217,121.04259,14.58388,121.05693,Metro Manila,290.625,0.46062,COMPLETED\\r\\nVNU,2013-12-13 22:00:10,14.549732,121.02677,14.599512,120.984219,Metro Manila,242.5,1.4912,COMPLETED\\r\\nIOS,2013-12-18 15:23:40,14.55477,121.024,14.55937,121.01455,Metro Manila,0,,UNALLOCATED\\r\\nIOS,2013-09-17 19:22:40,14.55348,121.01484,14.58232,121.07292,Metro Manila,0,,UNALLOCATED\\r\\nIOS,2013-09-03 8:01:35,14.60341,121.09271,14.54976,121.05273,Metro Manila,0,,UNALLOCATED\\r\\nIOS,2013-09-13 18:55:50,14.55191,121.04551,14.58584,121.05929,Metro Manila,0,,UNALLOCATED\\r\\nIOS,2013-11-29 17:40:13,14.56014,121.01682,14.57325,120.99948,Metro Manila,0,,UNALLOCATED\\r\\nIOS,2013-12-16 9:53:36,14.60912,121.09202,14.60769,121.0786,Metro Manila,0,,UNALLOCATED\\r\\nADR,2013-09-10 18:33:08,14.58736,120.972865,14.558616,121.005979,Metro Manila,0,,UNALLOCATED\\r\\nIOS,2013-09-25 19:17:04,14.58244,121.05195,14.5308,121.07274,Metro Manila,0,,UNALLOCATED\\r\\nADR,2013-09-08 18:58:48,14.486955,121.043109,14.468986,121.056041,Metro Manila,0,,UNALLOCATED\\r\\nIOS,2013-12-19 21:23:17,14.57794,121.04229,14.55633,121.02124,Metro Manila,0,,UNALLOCATED\\r\\nIOS,2013-09-03 16:30:51,14.59853,121.03762,14.5637,120.99517,Metro Manila,0,,UNALLOCATED\\r\\nADR,2013-10-23 18:10:57,14.558493,121.056913,14.484117,120.992024,Metro Manila,0,,UNALLOCATED\\r\\nIOS,2013-09-10 15:29:14,14.57417,121.02119,14.55472,121.01446,Metro Manila,0,,UNALLOCATED\\r\\nIOS,2013-11-22 16:41:47,14.58398,121.06323,14.58906,121.06999,Metro Manila,0,,UNALLOCATED\\r\\nIOS,2013-10-03 19:19:22,14.55358,121.04811,14.62303,120.99956,Metro Manila,0,,UNALLOCATED\\r\\nADR,2013-09-19 18:50:05,14.551284,121.016912,14.543135,121.011761,Metro Manila,0,,UNALLOCATED\\r\\nIOS,2013-09-26 9:20:39,14.59951,120.98422,14.55921,121.0176,Metro Manila,0,,UNALLOCATED\\r\\nADR,2013-09-09 7:15:46,14.615011,121.095273,14.552007,121.051264,Metro Manila,0,,UNALLOCATED\\r\\nADR,2013-09-10 21:28:03,14.549913,121.025798,14.543135,121.011761,Metro Manila,0,,UNALLOCATED\\r\\nADR,2013-09-20 19:57:39,14.583209,121.056804,14.554729,121.024445,Metro Manila,0,,UNALLOCATED\\r\\nIOS,2013-08-28 13:33:33,14.41797,121.04397,14.56435,121.02933,Metro Manila,0,,UNALLOCATED\\r\\nIOS,2013-09-10 21:19:33,14.61342,121.05701,14.6099,121.0809,Metro Manila,0,,UNALLOCATED\\r\\nIOS,2013-09-12 19:44:29,14.56345,121.03837,14.55485,121.02545,Metro Manila,0,,UNALLOCATED'}"
            ]
          },
          "metadata": {
            "tags": []
          },
          "execution_count": 7
        }
      ]
    },
    {
      "cell_type": "code",
      "metadata": {
        "id": "X7JRjyh4m4OU",
        "colab_type": "code",
        "colab": {}
      },
      "source": [
        "df = pd.read_csv('DataSeerGrabPrizeData (1).csv')  "
      ],
      "execution_count": null,
      "outputs": []
    },
    {
      "cell_type": "code",
      "metadata": {
        "id": "IkWd6kFoREwp",
        "colab_type": "code",
        "colab": {
          "base_uri": "https://localhost:8080/",
          "height": 287
        },
        "outputId": "4fb7bef6-ba33-4c81-f5cd-f033c37cf56d"
      },
      "source": [
        "df.describe()"
      ],
      "execution_count": null,
      "outputs": [
        {
          "output_type": "execute_result",
          "data": {
            "text/html": [
              "<div>\n",
              "<style scoped>\n",
              "    .dataframe tbody tr th:only-of-type {\n",
              "        vertical-align: middle;\n",
              "    }\n",
              "\n",
              "    .dataframe tbody tr th {\n",
              "        vertical-align: top;\n",
              "    }\n",
              "\n",
              "    .dataframe thead th {\n",
              "        text-align: right;\n",
              "    }\n",
              "</style>\n",
              "<table border=\"1\" class=\"dataframe\">\n",
              "  <thead>\n",
              "    <tr style=\"text-align: right;\">\n",
              "      <th></th>\n",
              "      <th>pick_up_latitude</th>\n",
              "      <th>pick_up_longitude</th>\n",
              "      <th>drop_off_latitude</th>\n",
              "      <th>drop_off_longitude</th>\n",
              "      <th>fare</th>\n",
              "      <th>pick_up_distance</th>\n",
              "    </tr>\n",
              "  </thead>\n",
              "  <tbody>\n",
              "    <tr>\n",
              "      <th>count</th>\n",
              "      <td>300.000000</td>\n",
              "      <td>300.000000</td>\n",
              "      <td>300.000000</td>\n",
              "      <td>300.000000</td>\n",
              "      <td>300.000000</td>\n",
              "      <td>245.000000</td>\n",
              "    </tr>\n",
              "    <tr>\n",
              "      <th>mean</th>\n",
              "      <td>14.568170</td>\n",
              "      <td>121.045472</td>\n",
              "      <td>14.570122</td>\n",
              "      <td>121.032800</td>\n",
              "      <td>206.747917</td>\n",
              "      <td>1.265060</td>\n",
              "    </tr>\n",
              "    <tr>\n",
              "      <th>std</th>\n",
              "      <td>0.105709</td>\n",
              "      <td>0.050816</td>\n",
              "      <td>0.051373</td>\n",
              "      <td>0.031681</td>\n",
              "      <td>127.126511</td>\n",
              "      <td>0.988334</td>\n",
              "    </tr>\n",
              "    <tr>\n",
              "      <th>min</th>\n",
              "      <td>12.879721</td>\n",
              "      <td>120.972865</td>\n",
              "      <td>14.417032</td>\n",
              "      <td>120.867120</td>\n",
              "      <td>0.000000</td>\n",
              "      <td>0.031872</td>\n",
              "    </tr>\n",
              "    <tr>\n",
              "      <th>25%</th>\n",
              "      <td>14.551893</td>\n",
              "      <td>121.024334</td>\n",
              "      <td>14.550883</td>\n",
              "      <td>121.017265</td>\n",
              "      <td>167.031250</td>\n",
              "      <td>0.484101</td>\n",
              "    </tr>\n",
              "    <tr>\n",
              "      <th>50%</th>\n",
              "      <td>14.572160</td>\n",
              "      <td>121.042200</td>\n",
              "      <td>14.559313</td>\n",
              "      <td>121.027670</td>\n",
              "      <td>211.875000</td>\n",
              "      <td>1.009640</td>\n",
              "    </tr>\n",
              "    <tr>\n",
              "      <th>75%</th>\n",
              "      <td>14.589131</td>\n",
              "      <td>121.061000</td>\n",
              "      <td>14.589908</td>\n",
              "      <td>121.054867</td>\n",
              "      <td>269.843750</td>\n",
              "      <td>1.786890</td>\n",
              "    </tr>\n",
              "    <tr>\n",
              "      <th>max</th>\n",
              "      <td>14.702179</td>\n",
              "      <td>121.774017</td>\n",
              "      <td>14.881480</td>\n",
              "      <td>121.122690</td>\n",
              "      <td>811.250000</td>\n",
              "      <td>5.160290</td>\n",
              "    </tr>\n",
              "  </tbody>\n",
              "</table>\n",
              "</div>"
            ],
            "text/plain": [
              "       pick_up_latitude  pick_up_longitude  ...        fare  pick_up_distance\n",
              "count        300.000000         300.000000  ...  300.000000        245.000000\n",
              "mean          14.568170         121.045472  ...  206.747917          1.265060\n",
              "std            0.105709           0.050816  ...  127.126511          0.988334\n",
              "min           12.879721         120.972865  ...    0.000000          0.031872\n",
              "25%           14.551893         121.024334  ...  167.031250          0.484101\n",
              "50%           14.572160         121.042200  ...  211.875000          1.009640\n",
              "75%           14.589131         121.061000  ...  269.843750          1.786890\n",
              "max           14.702179         121.774017  ...  811.250000          5.160290\n",
              "\n",
              "[8 rows x 6 columns]"
            ]
          },
          "metadata": {
            "tags": []
          },
          "execution_count": 9
        }
      ]
    },
    {
      "cell_type": "code",
      "metadata": {
        "id": "H48e6CX-MhAX",
        "colab_type": "code",
        "colab": {}
      },
      "source": [
        "df = df.dropna()"
      ],
      "execution_count": null,
      "outputs": []
    },
    {
      "cell_type": "code",
      "metadata": {
        "id": "aDZ_l1bsMwM_",
        "colab_type": "code",
        "colab": {
          "base_uri": "https://localhost:8080/",
          "height": 287
        },
        "outputId": "3f2ae52d-6a4c-4a15-ae3f-7df02467ab1e"
      },
      "source": [
        "df.describe()"
      ],
      "execution_count": null,
      "outputs": [
        {
          "output_type": "execute_result",
          "data": {
            "text/html": [
              "<div>\n",
              "<style scoped>\n",
              "    .dataframe tbody tr th:only-of-type {\n",
              "        vertical-align: middle;\n",
              "    }\n",
              "\n",
              "    .dataframe tbody tr th {\n",
              "        vertical-align: top;\n",
              "    }\n",
              "\n",
              "    .dataframe thead th {\n",
              "        text-align: right;\n",
              "    }\n",
              "</style>\n",
              "<table border=\"1\" class=\"dataframe\">\n",
              "  <thead>\n",
              "    <tr style=\"text-align: right;\">\n",
              "      <th></th>\n",
              "      <th>pick_up_latitude</th>\n",
              "      <th>pick_up_longitude</th>\n",
              "      <th>drop_off_latitude</th>\n",
              "      <th>drop_off_longitude</th>\n",
              "      <th>fare</th>\n",
              "      <th>pick_up_distance</th>\n",
              "    </tr>\n",
              "  </thead>\n",
              "  <tbody>\n",
              "    <tr>\n",
              "      <th>count</th>\n",
              "      <td>245.000000</td>\n",
              "      <td>245.000000</td>\n",
              "      <td>245.000000</td>\n",
              "      <td>245.000000</td>\n",
              "      <td>245.000000</td>\n",
              "      <td>245.000000</td>\n",
              "    </tr>\n",
              "    <tr>\n",
              "      <th>mean</th>\n",
              "      <td>14.575107</td>\n",
              "      <td>121.041683</td>\n",
              "      <td>14.572584</td>\n",
              "      <td>121.031730</td>\n",
              "      <td>253.160714</td>\n",
              "      <td>1.265060</td>\n",
              "    </tr>\n",
              "    <tr>\n",
              "      <th>std</th>\n",
              "      <td>0.036720</td>\n",
              "      <td>0.027717</td>\n",
              "      <td>0.050846</td>\n",
              "      <td>0.032275</td>\n",
              "      <td>89.476141</td>\n",
              "      <td>0.988334</td>\n",
              "    </tr>\n",
              "    <tr>\n",
              "      <th>min</th>\n",
              "      <td>14.465721</td>\n",
              "      <td>120.980200</td>\n",
              "      <td>14.426363</td>\n",
              "      <td>120.867120</td>\n",
              "      <td>146.250000</td>\n",
              "      <td>0.031872</td>\n",
              "    </tr>\n",
              "    <tr>\n",
              "      <th>25%</th>\n",
              "      <td>14.551840</td>\n",
              "      <td>121.023880</td>\n",
              "      <td>14.551694</td>\n",
              "      <td>121.016413</td>\n",
              "      <td>190.000000</td>\n",
              "      <td>0.484101</td>\n",
              "    </tr>\n",
              "    <tr>\n",
              "      <th>50%</th>\n",
              "      <td>14.572100</td>\n",
              "      <td>121.039720</td>\n",
              "      <td>14.560710</td>\n",
              "      <td>121.027270</td>\n",
              "      <td>229.375000</td>\n",
              "      <td>1.009640</td>\n",
              "    </tr>\n",
              "    <tr>\n",
              "      <th>75%</th>\n",
              "      <td>14.589480</td>\n",
              "      <td>121.060081</td>\n",
              "      <td>14.594508</td>\n",
              "      <td>121.053580</td>\n",
              "      <td>295.000000</td>\n",
              "      <td>1.786890</td>\n",
              "    </tr>\n",
              "    <tr>\n",
              "      <th>max</th>\n",
              "      <td>14.688088</td>\n",
              "      <td>121.122690</td>\n",
              "      <td>14.881480</td>\n",
              "      <td>121.122690</td>\n",
              "      <td>811.250000</td>\n",
              "      <td>5.160290</td>\n",
              "    </tr>\n",
              "  </tbody>\n",
              "</table>\n",
              "</div>"
            ],
            "text/plain": [
              "       pick_up_latitude  pick_up_longitude  ...        fare  pick_up_distance\n",
              "count        245.000000         245.000000  ...  245.000000        245.000000\n",
              "mean          14.575107         121.041683  ...  253.160714          1.265060\n",
              "std            0.036720           0.027717  ...   89.476141          0.988334\n",
              "min           14.465721         120.980200  ...  146.250000          0.031872\n",
              "25%           14.551840         121.023880  ...  190.000000          0.484101\n",
              "50%           14.572100         121.039720  ...  229.375000          1.009640\n",
              "75%           14.589480         121.060081  ...  295.000000          1.786890\n",
              "max           14.688088         121.122690  ...  811.250000          5.160290\n",
              "\n",
              "[8 rows x 6 columns]"
            ]
          },
          "metadata": {
            "tags": []
          },
          "execution_count": 13
        }
      ]
    },
    {
      "cell_type": "code",
      "metadata": {
        "id": "EF-rV2zDRGjX",
        "colab_type": "code",
        "colab": {}
      },
      "source": [
        "df.to_csv('new.csv', index=False)"
      ],
      "execution_count": null,
      "outputs": []
    },
    {
      "cell_type": "code",
      "metadata": {
        "id": "qYDaXIz8o2XR",
        "colab_type": "code",
        "colab": {
          "base_uri": "https://localhost:8080/",
          "height": 16
        },
        "outputId": "281feeeb-50e0-4254-c225-bf12ef70343d"
      },
      "source": [
        "files.download('new.csv')"
      ],
      "execution_count": null,
      "outputs": [
        {
          "output_type": "display_data",
          "data": {
            "application/javascript": [
              "\n",
              "    async function download(id, filename, size) {\n",
              "      if (!google.colab.kernel.accessAllowed) {\n",
              "        return;\n",
              "      }\n",
              "      const div = document.createElement('div');\n",
              "      const label = document.createElement('label');\n",
              "      label.textContent = `Downloading \"${filename}\": `;\n",
              "      div.appendChild(label);\n",
              "      const progress = document.createElement('progress');\n",
              "      progress.max = size;\n",
              "      div.appendChild(progress);\n",
              "      document.body.appendChild(div);\n",
              "\n",
              "      const buffers = [];\n",
              "      let downloaded = 0;\n",
              "\n",
              "      const channel = await google.colab.kernel.comms.open(id);\n",
              "      // Send a message to notify the kernel that we're ready.\n",
              "      channel.send({})\n",
              "\n",
              "      for await (const message of channel.messages) {\n",
              "        // Send a message to notify the kernel that we're ready.\n",
              "        channel.send({})\n",
              "        if (message.buffers) {\n",
              "          for (const buffer of message.buffers) {\n",
              "            buffers.push(buffer);\n",
              "            downloaded += buffer.byteLength;\n",
              "            progress.value = downloaded;\n",
              "          }\n",
              "        }\n",
              "      }\n",
              "      const blob = new Blob(buffers, {type: 'application/binary'});\n",
              "      const a = document.createElement('a');\n",
              "      a.href = window.URL.createObjectURL(blob);\n",
              "      a.download = filename;\n",
              "      div.appendChild(a);\n",
              "      a.click();\n",
              "      div.remove();\n",
              "    }\n",
              "  "
            ],
            "text/plain": [
              "<IPython.core.display.Javascript object>"
            ]
          },
          "metadata": {
            "tags": []
          }
        },
        {
          "output_type": "display_data",
          "data": {
            "application/javascript": [
              "download(\"download_66042e2f-9077-47e2-a419-e00238d81d2c\", \"new.csv\", 29055)"
            ],
            "text/plain": [
              "<IPython.core.display.Javascript object>"
            ]
          },
          "metadata": {
            "tags": []
          }
        }
      ]
    },
    {
      "cell_type": "code",
      "metadata": {
        "id": "9RllgeNARViU",
        "colab_type": "code",
        "colab": {
          "base_uri": "https://localhost:8080/",
          "height": 34
        },
        "outputId": "5adad65f-939c-438e-8c21-75687994fbff"
      },
      "source": [
        "from google.colab import drive\n",
        "drive.mount('/content/drive')"
      ],
      "execution_count": null,
      "outputs": [
        {
          "output_type": "stream",
          "text": [
            "Drive already mounted at /content/drive; to attempt to forcibly remount, call drive.mount(\"/content/drive\", force_remount=True).\n"
          ],
          "name": "stdout"
        }
      ]
    },
    {
      "cell_type": "code",
      "metadata": {
        "id": "rQfpEGtXS63F",
        "colab_type": "code",
        "colab": {}
      },
      "source": [
        "# https://drive.google.com/file/d/1ySoqqfMhp73CeXLQVyqAM_EsGI2v7Zo8/view?usp=sharing\n",
        "\n",
        "df2 = pd.read_csv('/content/drive/My Drive/DataSeerGrabPrizeData.csv')"
      ],
      "execution_count": null,
      "outputs": []
    },
    {
      "cell_type": "code",
      "metadata": {
        "id": "8mrkOp-NTX_P",
        "colab_type": "code",
        "colab": {
          "base_uri": "https://localhost:8080/",
          "height": 287
        },
        "outputId": "b17d4291-7457-4d45-c2a6-3d27c9758282"
      },
      "source": [
        "df2.describe()\n",
        "\n",
        "# missing pick up distances are UNALLOCATED"
      ],
      "execution_count": null,
      "outputs": [
        {
          "output_type": "execute_result",
          "data": {
            "text/html": [
              "<div>\n",
              "<style scoped>\n",
              "    .dataframe tbody tr th:only-of-type {\n",
              "        vertical-align: middle;\n",
              "    }\n",
              "\n",
              "    .dataframe tbody tr th {\n",
              "        vertical-align: top;\n",
              "    }\n",
              "\n",
              "    .dataframe thead th {\n",
              "        text-align: right;\n",
              "    }\n",
              "</style>\n",
              "<table border=\"1\" class=\"dataframe\">\n",
              "  <thead>\n",
              "    <tr style=\"text-align: right;\">\n",
              "      <th></th>\n",
              "      <th>pick_up_latitude</th>\n",
              "      <th>pick_up_longitude</th>\n",
              "      <th>drop_off_latitude</th>\n",
              "      <th>drop_off_longitude</th>\n",
              "      <th>fare</th>\n",
              "      <th>pick_up_distance</th>\n",
              "    </tr>\n",
              "  </thead>\n",
              "  <tbody>\n",
              "    <tr>\n",
              "      <th>count</th>\n",
              "      <td>265073.000000</td>\n",
              "      <td>265073.000000</td>\n",
              "      <td>265073.000000</td>\n",
              "      <td>265073.000000</td>\n",
              "      <td>265073.000000</td>\n",
              "      <td>144541.000000</td>\n",
              "    </tr>\n",
              "    <tr>\n",
              "      <th>mean</th>\n",
              "      <td>14.561490</td>\n",
              "      <td>121.046757</td>\n",
              "      <td>14.558914</td>\n",
              "      <td>121.037733</td>\n",
              "      <td>146.325406</td>\n",
              "      <td>1.258160</td>\n",
              "    </tr>\n",
              "    <tr>\n",
              "      <th>std</th>\n",
              "      <td>0.315575</td>\n",
              "      <td>0.198375</td>\n",
              "      <td>0.364478</td>\n",
              "      <td>1.044046</td>\n",
              "      <td>591.375429</td>\n",
              "      <td>35.076018</td>\n",
              "    </tr>\n",
              "    <tr>\n",
              "      <th>min</th>\n",
              "      <td>-41.437247</td>\n",
              "      <td>114.172050</td>\n",
              "      <td>-41.401779</td>\n",
              "      <td>-77.038043</td>\n",
              "      <td>0.000000</td>\n",
              "      <td>0.000896</td>\n",
              "    </tr>\n",
              "    <tr>\n",
              "      <th>25%</th>\n",
              "      <td>14.552890</td>\n",
              "      <td>121.018340</td>\n",
              "      <td>14.550930</td>\n",
              "      <td>121.016200</td>\n",
              "      <td>0.000000</td>\n",
              "      <td>0.485546</td>\n",
              "    </tr>\n",
              "    <tr>\n",
              "      <th>50%</th>\n",
              "      <td>14.571390</td>\n",
              "      <td>121.034437</td>\n",
              "      <td>14.566120</td>\n",
              "      <td>121.034070</td>\n",
              "      <td>168.125000</td>\n",
              "      <td>0.941609</td>\n",
              "    </tr>\n",
              "    <tr>\n",
              "      <th>75%</th>\n",
              "      <td>14.600570</td>\n",
              "      <td>121.057020</td>\n",
              "      <td>14.604960</td>\n",
              "      <td>121.055217</td>\n",
              "      <td>242.500000</td>\n",
              "      <td>1.652430</td>\n",
              "    </tr>\n",
              "    <tr>\n",
              "      <th>max</th>\n",
              "      <td>22.282030</td>\n",
              "      <td>147.138581</td>\n",
              "      <td>38.907490</td>\n",
              "      <td>147.181090</td>\n",
              "      <td>201098.750000</td>\n",
              "      <td>13332.300000</td>\n",
              "    </tr>\n",
              "  </tbody>\n",
              "</table>\n",
              "</div>"
            ],
            "text/plain": [
              "       pick_up_latitude  pick_up_longitude  ...           fare  pick_up_distance\n",
              "count     265073.000000      265073.000000  ...  265073.000000     144541.000000\n",
              "mean          14.561490         121.046757  ...     146.325406          1.258160\n",
              "std            0.315575           0.198375  ...     591.375429         35.076018\n",
              "min          -41.437247         114.172050  ...       0.000000          0.000896\n",
              "25%           14.552890         121.018340  ...       0.000000          0.485546\n",
              "50%           14.571390         121.034437  ...     168.125000          0.941609\n",
              "75%           14.600570         121.057020  ...     242.500000          1.652430\n",
              "max           22.282030         147.138581  ...  201098.750000      13332.300000\n",
              "\n",
              "[8 rows x 6 columns]"
            ]
          },
          "metadata": {
            "tags": []
          },
          "execution_count": 18
        }
      ]
    },
    {
      "cell_type": "code",
      "metadata": {
        "id": "b8ojoBPCNWQ_",
        "colab_type": "code",
        "colab": {}
      },
      "source": [
        "df2 = df2.dropna()"
      ],
      "execution_count": null,
      "outputs": []
    },
    {
      "cell_type": "code",
      "metadata": {
        "id": "JGCdk6TPNZ62",
        "colab_type": "code",
        "colab": {
          "base_uri": "https://localhost:8080/",
          "height": 287
        },
        "outputId": "346c28cf-499b-4a4d-ad67-8a0308042fd3"
      },
      "source": [
        "df2.describe()"
      ],
      "execution_count": null,
      "outputs": [
        {
          "output_type": "execute_result",
          "data": {
            "text/html": [
              "<div>\n",
              "<style scoped>\n",
              "    .dataframe tbody tr th:only-of-type {\n",
              "        vertical-align: middle;\n",
              "    }\n",
              "\n",
              "    .dataframe tbody tr th {\n",
              "        vertical-align: top;\n",
              "    }\n",
              "\n",
              "    .dataframe thead th {\n",
              "        text-align: right;\n",
              "    }\n",
              "</style>\n",
              "<table border=\"1\" class=\"dataframe\">\n",
              "  <thead>\n",
              "    <tr style=\"text-align: right;\">\n",
              "      <th></th>\n",
              "      <th>pick_up_latitude</th>\n",
              "      <th>pick_up_longitude</th>\n",
              "      <th>drop_off_latitude</th>\n",
              "      <th>drop_off_longitude</th>\n",
              "      <th>fare</th>\n",
              "      <th>pick_up_distance</th>\n",
              "    </tr>\n",
              "  </thead>\n",
              "  <tbody>\n",
              "    <tr>\n",
              "      <th>count</th>\n",
              "      <td>144541.000000</td>\n",
              "      <td>144541.000000</td>\n",
              "      <td>144541.000000</td>\n",
              "      <td>144541.000000</td>\n",
              "      <td>144541.000000</td>\n",
              "      <td>144541.000000</td>\n",
              "    </tr>\n",
              "    <tr>\n",
              "      <th>mean</th>\n",
              "      <td>14.575468</td>\n",
              "      <td>121.038270</td>\n",
              "      <td>14.570987</td>\n",
              "      <td>121.032621</td>\n",
              "      <td>268.345413</td>\n",
              "      <td>1.258160</td>\n",
              "    </tr>\n",
              "    <tr>\n",
              "      <th>std</th>\n",
              "      <td>0.140630</td>\n",
              "      <td>0.090670</td>\n",
              "      <td>0.185891</td>\n",
              "      <td>0.745704</td>\n",
              "      <td>780.139079</td>\n",
              "      <td>35.076018</td>\n",
              "    </tr>\n",
              "    <tr>\n",
              "      <th>min</th>\n",
              "      <td>7.060409</td>\n",
              "      <td>120.760893</td>\n",
              "      <td>3.119090</td>\n",
              "      <td>-77.038043</td>\n",
              "      <td>0.000000</td>\n",
              "      <td>0.000896</td>\n",
              "    </tr>\n",
              "    <tr>\n",
              "      <th>25%</th>\n",
              "      <td>14.552930</td>\n",
              "      <td>121.017800</td>\n",
              "      <td>14.550900</td>\n",
              "      <td>121.016204</td>\n",
              "      <td>194.375000</td>\n",
              "      <td>0.485546</td>\n",
              "    </tr>\n",
              "    <tr>\n",
              "      <th>50%</th>\n",
              "      <td>14.571705</td>\n",
              "      <td>121.034070</td>\n",
              "      <td>14.565137</td>\n",
              "      <td>121.033750</td>\n",
              "      <td>233.750000</td>\n",
              "      <td>0.941609</td>\n",
              "    </tr>\n",
              "    <tr>\n",
              "      <th>75%</th>\n",
              "      <td>14.601790</td>\n",
              "      <td>121.056110</td>\n",
              "      <td>14.604530</td>\n",
              "      <td>121.054189</td>\n",
              "      <td>295.000000</td>\n",
              "      <td>1.652430</td>\n",
              "    </tr>\n",
              "    <tr>\n",
              "      <th>max</th>\n",
              "      <td>14.914973</td>\n",
              "      <td>125.637241</td>\n",
              "      <td>38.907490</td>\n",
              "      <td>126.236204</td>\n",
              "      <td>201098.750000</td>\n",
              "      <td>13332.300000</td>\n",
              "    </tr>\n",
              "  </tbody>\n",
              "</table>\n",
              "</div>"
            ],
            "text/plain": [
              "       pick_up_latitude  pick_up_longitude  ...           fare  pick_up_distance\n",
              "count     144541.000000      144541.000000  ...  144541.000000     144541.000000\n",
              "mean          14.575468         121.038270  ...     268.345413          1.258160\n",
              "std            0.140630           0.090670  ...     780.139079         35.076018\n",
              "min            7.060409         120.760893  ...       0.000000          0.000896\n",
              "25%           14.552930         121.017800  ...     194.375000          0.485546\n",
              "50%           14.571705         121.034070  ...     233.750000          0.941609\n",
              "75%           14.601790         121.056110  ...     295.000000          1.652430\n",
              "max           14.914973         125.637241  ...  201098.750000      13332.300000\n",
              "\n",
              "[8 rows x 6 columns]"
            ]
          },
          "metadata": {
            "tags": []
          },
          "execution_count": 21
        }
      ]
    },
    {
      "cell_type": "code",
      "metadata": {
        "id": "J8AI3013VnZh",
        "colab_type": "code",
        "colab": {}
      },
      "source": [
        "#Export to Google Sheets / Part 1 Auth\n",
        "!pip install --upgrade --quiet gspread\n",
        "from google.colab import auth\n",
        "auth.authenticate_user()\n",
        "\n",
        "import gspread\n",
        "from oauth2client.client import GoogleCredentials\n",
        "\n",
        "gc = gspread.authorize(GoogleCredentials.get_application_default())"
      ],
      "execution_count": null,
      "outputs": []
    },
    {
      "cell_type": "code",
      "metadata": {
        "id": "Ikx5tcGLTWl2",
        "colab_type": "code",
        "colab": {}
      },
      "source": [
        "#Export to Google Sheets / Part 2 Export\n",
        "from gspread_dataframe import get_as_dataframe, set_with_dataframe\n",
        "\n",
        "sh1 = gc.create('grab_cleaned')\n",
        "worksheet = gc.open('grab_cleaned').sheet1\n",
        "\n",
        "set_with_dataframe(worksheet, df2)\n",
        "\n",
        "# this is a good endpoint in making Google Data Studio dashboards\n",
        "# integrating google sheet to Google Data Studio is free"
      ],
      "execution_count": null,
      "outputs": []
    },
    {
      "cell_type": "code",
      "metadata": {
        "id": "L_k25v95R-db",
        "colab_type": "code",
        "colab": {}
      },
      "source": [
        "df3 = pd.read_csv('/content/drive/My Drive/DataSeerGrabPrizeData.csv')"
      ],
      "execution_count": null,
      "outputs": []
    },
    {
      "cell_type": "code",
      "metadata": {
        "id": "V8aYJnBDOlcr",
        "colab_type": "code",
        "colab": {
          "base_uri": "https://localhost:8080/",
          "height": 287
        },
        "outputId": "b5e712ff-726d-424b-ef5b-2010e99ac16c"
      },
      "source": [
        "df3.describe()"
      ],
      "execution_count": null,
      "outputs": [
        {
          "output_type": "execute_result",
          "data": {
            "text/html": [
              "<div>\n",
              "<style scoped>\n",
              "    .dataframe tbody tr th:only-of-type {\n",
              "        vertical-align: middle;\n",
              "    }\n",
              "\n",
              "    .dataframe tbody tr th {\n",
              "        vertical-align: top;\n",
              "    }\n",
              "\n",
              "    .dataframe thead th {\n",
              "        text-align: right;\n",
              "    }\n",
              "</style>\n",
              "<table border=\"1\" class=\"dataframe\">\n",
              "  <thead>\n",
              "    <tr style=\"text-align: right;\">\n",
              "      <th></th>\n",
              "      <th>pick_up_latitude</th>\n",
              "      <th>pick_up_longitude</th>\n",
              "      <th>drop_off_latitude</th>\n",
              "      <th>drop_off_longitude</th>\n",
              "      <th>fare</th>\n",
              "      <th>pick_up_distance</th>\n",
              "    </tr>\n",
              "  </thead>\n",
              "  <tbody>\n",
              "    <tr>\n",
              "      <th>count</th>\n",
              "      <td>265073.000000</td>\n",
              "      <td>265073.000000</td>\n",
              "      <td>265073.000000</td>\n",
              "      <td>265073.000000</td>\n",
              "      <td>265073.000000</td>\n",
              "      <td>144541.000000</td>\n",
              "    </tr>\n",
              "    <tr>\n",
              "      <th>mean</th>\n",
              "      <td>14.561490</td>\n",
              "      <td>121.046757</td>\n",
              "      <td>14.558914</td>\n",
              "      <td>121.037733</td>\n",
              "      <td>146.325406</td>\n",
              "      <td>1.258160</td>\n",
              "    </tr>\n",
              "    <tr>\n",
              "      <th>std</th>\n",
              "      <td>0.315575</td>\n",
              "      <td>0.198375</td>\n",
              "      <td>0.364478</td>\n",
              "      <td>1.044046</td>\n",
              "      <td>591.375429</td>\n",
              "      <td>35.076018</td>\n",
              "    </tr>\n",
              "    <tr>\n",
              "      <th>min</th>\n",
              "      <td>-41.437247</td>\n",
              "      <td>114.172050</td>\n",
              "      <td>-41.401779</td>\n",
              "      <td>-77.038043</td>\n",
              "      <td>0.000000</td>\n",
              "      <td>0.000896</td>\n",
              "    </tr>\n",
              "    <tr>\n",
              "      <th>25%</th>\n",
              "      <td>14.552890</td>\n",
              "      <td>121.018340</td>\n",
              "      <td>14.550930</td>\n",
              "      <td>121.016200</td>\n",
              "      <td>0.000000</td>\n",
              "      <td>0.485546</td>\n",
              "    </tr>\n",
              "    <tr>\n",
              "      <th>50%</th>\n",
              "      <td>14.571390</td>\n",
              "      <td>121.034437</td>\n",
              "      <td>14.566120</td>\n",
              "      <td>121.034070</td>\n",
              "      <td>168.125000</td>\n",
              "      <td>0.941609</td>\n",
              "    </tr>\n",
              "    <tr>\n",
              "      <th>75%</th>\n",
              "      <td>14.600570</td>\n",
              "      <td>121.057020</td>\n",
              "      <td>14.604960</td>\n",
              "      <td>121.055217</td>\n",
              "      <td>242.500000</td>\n",
              "      <td>1.652430</td>\n",
              "    </tr>\n",
              "    <tr>\n",
              "      <th>max</th>\n",
              "      <td>22.282030</td>\n",
              "      <td>147.138581</td>\n",
              "      <td>38.907490</td>\n",
              "      <td>147.181090</td>\n",
              "      <td>201098.750000</td>\n",
              "      <td>13332.300000</td>\n",
              "    </tr>\n",
              "  </tbody>\n",
              "</table>\n",
              "</div>"
            ],
            "text/plain": [
              "       pick_up_latitude  pick_up_longitude  ...           fare  pick_up_distance\n",
              "count     265073.000000      265073.000000  ...  265073.000000     144541.000000\n",
              "mean          14.561490         121.046757  ...     146.325406          1.258160\n",
              "std            0.315575           0.198375  ...     591.375429         35.076018\n",
              "min          -41.437247         114.172050  ...       0.000000          0.000896\n",
              "25%           14.552890         121.018340  ...       0.000000          0.485546\n",
              "50%           14.571390         121.034437  ...     168.125000          0.941609\n",
              "75%           14.600570         121.057020  ...     242.500000          1.652430\n",
              "max           22.282030         147.138581  ...  201098.750000      13332.300000\n",
              "\n",
              "[8 rows x 6 columns]"
            ]
          },
          "metadata": {
            "tags": []
          },
          "execution_count": 25
        }
      ]
    },
    {
      "cell_type": "code",
      "metadata": {
        "id": "Gti5yblBOirP",
        "colab_type": "code",
        "colab": {}
      },
      "source": [
        "df3 = df3.fillna(0)"
      ],
      "execution_count": null,
      "outputs": []
    },
    {
      "cell_type": "code",
      "metadata": {
        "id": "tMDT3L8rOrCb",
        "colab_type": "code",
        "colab": {
          "base_uri": "https://localhost:8080/",
          "height": 287
        },
        "outputId": "0d071320-8b8b-4b28-db5a-576deab06374"
      },
      "source": [
        "df3.describe()"
      ],
      "execution_count": null,
      "outputs": [
        {
          "output_type": "execute_result",
          "data": {
            "text/html": [
              "<div>\n",
              "<style scoped>\n",
              "    .dataframe tbody tr th:only-of-type {\n",
              "        vertical-align: middle;\n",
              "    }\n",
              "\n",
              "    .dataframe tbody tr th {\n",
              "        vertical-align: top;\n",
              "    }\n",
              "\n",
              "    .dataframe thead th {\n",
              "        text-align: right;\n",
              "    }\n",
              "</style>\n",
              "<table border=\"1\" class=\"dataframe\">\n",
              "  <thead>\n",
              "    <tr style=\"text-align: right;\">\n",
              "      <th></th>\n",
              "      <th>pick_up_latitude</th>\n",
              "      <th>pick_up_longitude</th>\n",
              "      <th>drop_off_latitude</th>\n",
              "      <th>drop_off_longitude</th>\n",
              "      <th>fare</th>\n",
              "      <th>pick_up_distance</th>\n",
              "    </tr>\n",
              "  </thead>\n",
              "  <tbody>\n",
              "    <tr>\n",
              "      <th>count</th>\n",
              "      <td>265073.000000</td>\n",
              "      <td>265073.000000</td>\n",
              "      <td>265073.000000</td>\n",
              "      <td>265073.000000</td>\n",
              "      <td>265073.000000</td>\n",
              "      <td>265073.000000</td>\n",
              "    </tr>\n",
              "    <tr>\n",
              "      <th>mean</th>\n",
              "      <td>14.561490</td>\n",
              "      <td>121.046757</td>\n",
              "      <td>14.558914</td>\n",
              "      <td>121.037733</td>\n",
              "      <td>146.325406</td>\n",
              "      <td>0.686059</td>\n",
              "    </tr>\n",
              "    <tr>\n",
              "      <th>std</th>\n",
              "      <td>0.315575</td>\n",
              "      <td>0.198375</td>\n",
              "      <td>0.364478</td>\n",
              "      <td>1.044046</td>\n",
              "      <td>591.375429</td>\n",
              "      <td>25.908924</td>\n",
              "    </tr>\n",
              "    <tr>\n",
              "      <th>min</th>\n",
              "      <td>-41.437247</td>\n",
              "      <td>114.172050</td>\n",
              "      <td>-41.401779</td>\n",
              "      <td>-77.038043</td>\n",
              "      <td>0.000000</td>\n",
              "      <td>0.000000</td>\n",
              "    </tr>\n",
              "    <tr>\n",
              "      <th>25%</th>\n",
              "      <td>14.552890</td>\n",
              "      <td>121.018340</td>\n",
              "      <td>14.550930</td>\n",
              "      <td>121.016200</td>\n",
              "      <td>0.000000</td>\n",
              "      <td>0.000000</td>\n",
              "    </tr>\n",
              "    <tr>\n",
              "      <th>50%</th>\n",
              "      <td>14.571390</td>\n",
              "      <td>121.034437</td>\n",
              "      <td>14.566120</td>\n",
              "      <td>121.034070</td>\n",
              "      <td>168.125000</td>\n",
              "      <td>0.208281</td>\n",
              "    </tr>\n",
              "    <tr>\n",
              "      <th>75%</th>\n",
              "      <td>14.600570</td>\n",
              "      <td>121.057020</td>\n",
              "      <td>14.604960</td>\n",
              "      <td>121.055217</td>\n",
              "      <td>242.500000</td>\n",
              "      <td>1.031240</td>\n",
              "    </tr>\n",
              "    <tr>\n",
              "      <th>max</th>\n",
              "      <td>22.282030</td>\n",
              "      <td>147.138581</td>\n",
              "      <td>38.907490</td>\n",
              "      <td>147.181090</td>\n",
              "      <td>201098.750000</td>\n",
              "      <td>13332.300000</td>\n",
              "    </tr>\n",
              "  </tbody>\n",
              "</table>\n",
              "</div>"
            ],
            "text/plain": [
              "       pick_up_latitude  pick_up_longitude  ...           fare  pick_up_distance\n",
              "count     265073.000000      265073.000000  ...  265073.000000     265073.000000\n",
              "mean          14.561490         121.046757  ...     146.325406          0.686059\n",
              "std            0.315575           0.198375  ...     591.375429         25.908924\n",
              "min          -41.437247         114.172050  ...       0.000000          0.000000\n",
              "25%           14.552890         121.018340  ...       0.000000          0.000000\n",
              "50%           14.571390         121.034437  ...     168.125000          0.208281\n",
              "75%           14.600570         121.057020  ...     242.500000          1.031240\n",
              "max           22.282030         147.138581  ...  201098.750000      13332.300000\n",
              "\n",
              "[8 rows x 6 columns]"
            ]
          },
          "metadata": {
            "tags": []
          },
          "execution_count": 27
        }
      ]
    },
    {
      "cell_type": "code",
      "metadata": {
        "id": "LkKXNhuIgkV6",
        "colab_type": "code",
        "colab": {
          "base_uri": "https://localhost:8080/",
          "height": 1000
        },
        "outputId": "3ff7d520-7c0d-475a-9167-3e0e986abc1d"
      },
      "source": [
        "!pip install pandas_profiling"
      ],
      "execution_count": null,
      "outputs": [
        {
          "output_type": "stream",
          "text": [
            "Requirement already satisfied: pandas_profiling in /usr/local/lib/python3.6/dist-packages (2.9.0)\n",
            "Requirement already satisfied: confuse>=1.0.0 in /usr/local/lib/python3.6/dist-packages (from pandas_profiling) (1.3.0)\n",
            "Requirement already satisfied: tqdm>=4.43.0 in /usr/local/lib/python3.6/dist-packages (from pandas_profiling) (4.48.2)\n",
            "Requirement already satisfied: htmlmin>=0.1.12 in /usr/local/lib/python3.6/dist-packages (from pandas_profiling) (0.1.12)\n",
            "Requirement already satisfied: matplotlib>=3.2.0 in /usr/local/lib/python3.6/dist-packages (from pandas_profiling) (3.2.2)\n",
            "Requirement already satisfied: seaborn>=0.10.1 in /usr/local/lib/python3.6/dist-packages (from pandas_profiling) (0.10.1)\n",
            "Requirement already satisfied: numpy>=1.16.0 in /usr/local/lib/python3.6/dist-packages (from pandas_profiling) (1.18.5)\n",
            "Requirement already satisfied: joblib in /usr/local/lib/python3.6/dist-packages (from pandas_profiling) (0.16.0)\n",
            "Requirement already satisfied: scipy>=1.4.1 in /usr/local/lib/python3.6/dist-packages (from pandas_profiling) (1.4.1)\n",
            "Requirement already satisfied: jinja2>=2.11.1 in /usr/local/lib/python3.6/dist-packages (from pandas_profiling) (2.11.2)\n",
            "Requirement already satisfied: missingno>=0.4.2 in /usr/local/lib/python3.6/dist-packages (from pandas_profiling) (0.4.2)\n",
            "Requirement already satisfied: attrs>=19.3.0 in /usr/local/lib/python3.6/dist-packages (from pandas_profiling) (20.1.0)\n",
            "Requirement already satisfied: requests>=2.23.0 in /usr/local/lib/python3.6/dist-packages (from pandas_profiling) (2.23.0)\n",
            "Requirement already satisfied: tangled-up-in-unicode>=0.0.6 in /usr/local/lib/python3.6/dist-packages (from pandas_profiling) (0.0.6)\n",
            "Requirement already satisfied: ipywidgets>=7.5.1 in /usr/local/lib/python3.6/dist-packages (from pandas_profiling) (7.5.1)\n",
            "Requirement already satisfied: phik>=0.9.10 in /usr/local/lib/python3.6/dist-packages (from pandas_profiling) (0.10.0)\n",
            "Requirement already satisfied: pandas!=1.0.0,!=1.0.1,!=1.0.2,!=1.1.0,>=0.25.3 in /usr/local/lib/python3.6/dist-packages (from pandas_profiling) (1.0.5)\n",
            "Requirement already satisfied: visions[type_image_path]==0.5.0 in /usr/local/lib/python3.6/dist-packages (from pandas_profiling) (0.5.0)\n",
            "Requirement already satisfied: pyyaml in /usr/local/lib/python3.6/dist-packages (from confuse>=1.0.0->pandas_profiling) (3.13)\n",
            "Requirement already satisfied: pyparsing!=2.0.4,!=2.1.2,!=2.1.6,>=2.0.1 in /usr/local/lib/python3.6/dist-packages (from matplotlib>=3.2.0->pandas_profiling) (2.4.7)\n",
            "Requirement already satisfied: cycler>=0.10 in /usr/local/lib/python3.6/dist-packages (from matplotlib>=3.2.0->pandas_profiling) (0.10.0)\n",
            "Requirement already satisfied: kiwisolver>=1.0.1 in /usr/local/lib/python3.6/dist-packages (from matplotlib>=3.2.0->pandas_profiling) (1.2.0)\n",
            "Requirement already satisfied: python-dateutil>=2.1 in /usr/local/lib/python3.6/dist-packages (from matplotlib>=3.2.0->pandas_profiling) (2.8.1)\n",
            "Requirement already satisfied: MarkupSafe>=0.23 in /usr/local/lib/python3.6/dist-packages (from jinja2>=2.11.1->pandas_profiling) (1.1.1)\n",
            "Requirement already satisfied: idna<3,>=2.5 in /usr/local/lib/python3.6/dist-packages (from requests>=2.23.0->pandas_profiling) (2.10)\n",
            "Requirement already satisfied: chardet<4,>=3.0.2 in /usr/local/lib/python3.6/dist-packages (from requests>=2.23.0->pandas_profiling) (3.0.4)\n",
            "Requirement already satisfied: certifi>=2017.4.17 in /usr/local/lib/python3.6/dist-packages (from requests>=2.23.0->pandas_profiling) (2020.6.20)\n",
            "Requirement already satisfied: urllib3!=1.25.0,!=1.25.1,<1.26,>=1.21.1 in /usr/local/lib/python3.6/dist-packages (from requests>=2.23.0->pandas_profiling) (1.24.3)\n",
            "Requirement already satisfied: nbformat>=4.2.0 in /usr/local/lib/python3.6/dist-packages (from ipywidgets>=7.5.1->pandas_profiling) (5.0.7)\n",
            "Requirement already satisfied: ipython>=4.0.0; python_version >= \"3.3\" in /usr/local/lib/python3.6/dist-packages (from ipywidgets>=7.5.1->pandas_profiling) (5.5.0)\n",
            "Requirement already satisfied: ipykernel>=4.5.1 in /usr/local/lib/python3.6/dist-packages (from ipywidgets>=7.5.1->pandas_profiling) (5.3.4)\n",
            "Requirement already satisfied: widgetsnbextension~=3.5.0 in /usr/local/lib/python3.6/dist-packages (from ipywidgets>=7.5.1->pandas_profiling) (3.5.1)\n",
            "Requirement already satisfied: traitlets>=4.3.1 in /usr/local/lib/python3.6/dist-packages (from ipywidgets>=7.5.1->pandas_profiling) (4.3.3)\n",
            "Requirement already satisfied: numba>=0.38.1 in /usr/local/lib/python3.6/dist-packages (from phik>=0.9.10->pandas_profiling) (0.48.0)\n",
            "Requirement already satisfied: pytz>=2017.2 in /usr/local/lib/python3.6/dist-packages (from pandas!=1.0.0,!=1.0.1,!=1.0.2,!=1.1.0,>=0.25.3->pandas_profiling) (2018.9)\n",
            "Requirement already satisfied: networkx>=2.4 in /usr/local/lib/python3.6/dist-packages (from visions[type_image_path]==0.5.0->pandas_profiling) (2.5)\n",
            "Requirement already satisfied: imagehash; extra == \"type_image_path\" in /usr/local/lib/python3.6/dist-packages (from visions[type_image_path]==0.5.0->pandas_profiling) (4.1.0)\n",
            "Requirement already satisfied: Pillow; extra == \"type_image_path\" in /usr/local/lib/python3.6/dist-packages (from visions[type_image_path]==0.5.0->pandas_profiling) (7.0.0)\n",
            "Requirement already satisfied: six in /usr/local/lib/python3.6/dist-packages (from cycler>=0.10->matplotlib>=3.2.0->pandas_profiling) (1.15.0)\n",
            "Requirement already satisfied: jsonschema!=2.5.0,>=2.4 in /usr/local/lib/python3.6/dist-packages (from nbformat>=4.2.0->ipywidgets>=7.5.1->pandas_profiling) (2.6.0)\n",
            "Requirement already satisfied: jupyter-core in /usr/local/lib/python3.6/dist-packages (from nbformat>=4.2.0->ipywidgets>=7.5.1->pandas_profiling) (4.6.3)\n",
            "Requirement already satisfied: ipython-genutils in /usr/local/lib/python3.6/dist-packages (from nbformat>=4.2.0->ipywidgets>=7.5.1->pandas_profiling) (0.2.0)\n",
            "Requirement already satisfied: simplegeneric>0.8 in /usr/local/lib/python3.6/dist-packages (from ipython>=4.0.0; python_version >= \"3.3\"->ipywidgets>=7.5.1->pandas_profiling) (0.8.1)\n",
            "Requirement already satisfied: pygments in /usr/local/lib/python3.6/dist-packages (from ipython>=4.0.0; python_version >= \"3.3\"->ipywidgets>=7.5.1->pandas_profiling) (2.1.3)\n",
            "Requirement already satisfied: pickleshare in /usr/local/lib/python3.6/dist-packages (from ipython>=4.0.0; python_version >= \"3.3\"->ipywidgets>=7.5.1->pandas_profiling) (0.7.5)\n",
            "Requirement already satisfied: setuptools>=18.5 in /usr/local/lib/python3.6/dist-packages (from ipython>=4.0.0; python_version >= \"3.3\"->ipywidgets>=7.5.1->pandas_profiling) (49.6.0)\n",
            "Requirement already satisfied: decorator in /usr/local/lib/python3.6/dist-packages (from ipython>=4.0.0; python_version >= \"3.3\"->ipywidgets>=7.5.1->pandas_profiling) (4.4.2)\n",
            "Requirement already satisfied: pexpect; sys_platform != \"win32\" in /usr/local/lib/python3.6/dist-packages (from ipython>=4.0.0; python_version >= \"3.3\"->ipywidgets>=7.5.1->pandas_profiling) (4.8.0)\n",
            "Requirement already satisfied: prompt-toolkit<2.0.0,>=1.0.4 in /usr/local/lib/python3.6/dist-packages (from ipython>=4.0.0; python_version >= \"3.3\"->ipywidgets>=7.5.1->pandas_profiling) (1.0.18)\n",
            "Requirement already satisfied: tornado>=4.2 in /usr/local/lib/python3.6/dist-packages (from ipykernel>=4.5.1->ipywidgets>=7.5.1->pandas_profiling) (5.1.1)\n",
            "Requirement already satisfied: jupyter-client in /usr/local/lib/python3.6/dist-packages (from ipykernel>=4.5.1->ipywidgets>=7.5.1->pandas_profiling) (6.1.7)\n",
            "Requirement already satisfied: notebook>=4.4.1 in /usr/local/lib/python3.6/dist-packages (from widgetsnbextension~=3.5.0->ipywidgets>=7.5.1->pandas_profiling) (5.3.1)\n",
            "Requirement already satisfied: llvmlite<0.32.0,>=0.31.0dev0 in /usr/local/lib/python3.6/dist-packages (from numba>=0.38.1->phik>=0.9.10->pandas_profiling) (0.31.0)\n",
            "Requirement already satisfied: PyWavelets in /usr/local/lib/python3.6/dist-packages (from imagehash; extra == \"type_image_path\"->visions[type_image_path]==0.5.0->pandas_profiling) (1.1.1)\n",
            "Requirement already satisfied: ptyprocess>=0.5 in /usr/local/lib/python3.6/dist-packages (from pexpect; sys_platform != \"win32\"->ipython>=4.0.0; python_version >= \"3.3\"->ipywidgets>=7.5.1->pandas_profiling) (0.6.0)\n",
            "Requirement already satisfied: wcwidth in /usr/local/lib/python3.6/dist-packages (from prompt-toolkit<2.0.0,>=1.0.4->ipython>=4.0.0; python_version >= \"3.3\"->ipywidgets>=7.5.1->pandas_profiling) (0.2.5)\n",
            "Requirement already satisfied: pyzmq>=13 in /usr/local/lib/python3.6/dist-packages (from jupyter-client->ipykernel>=4.5.1->ipywidgets>=7.5.1->pandas_profiling) (19.0.2)\n",
            "Requirement already satisfied: nbconvert in /usr/local/lib/python3.6/dist-packages (from notebook>=4.4.1->widgetsnbextension~=3.5.0->ipywidgets>=7.5.1->pandas_profiling) (5.6.1)\n",
            "Requirement already satisfied: Send2Trash in /usr/local/lib/python3.6/dist-packages (from notebook>=4.4.1->widgetsnbextension~=3.5.0->ipywidgets>=7.5.1->pandas_profiling) (1.5.0)\n",
            "Requirement already satisfied: terminado>=0.8.1 in /usr/local/lib/python3.6/dist-packages (from notebook>=4.4.1->widgetsnbextension~=3.5.0->ipywidgets>=7.5.1->pandas_profiling) (0.8.3)\n",
            "Requirement already satisfied: pandocfilters>=1.4.1 in /usr/local/lib/python3.6/dist-packages (from nbconvert->notebook>=4.4.1->widgetsnbextension~=3.5.0->ipywidgets>=7.5.1->pandas_profiling) (1.4.2)\n",
            "Requirement already satisfied: bleach in /usr/local/lib/python3.6/dist-packages (from nbconvert->notebook>=4.4.1->widgetsnbextension~=3.5.0->ipywidgets>=7.5.1->pandas_profiling) (3.1.5)\n",
            "Requirement already satisfied: defusedxml in /usr/local/lib/python3.6/dist-packages (from nbconvert->notebook>=4.4.1->widgetsnbextension~=3.5.0->ipywidgets>=7.5.1->pandas_profiling) (0.6.0)\n",
            "Requirement already satisfied: entrypoints>=0.2.2 in /usr/local/lib/python3.6/dist-packages (from nbconvert->notebook>=4.4.1->widgetsnbextension~=3.5.0->ipywidgets>=7.5.1->pandas_profiling) (0.3)\n",
            "Requirement already satisfied: mistune<2,>=0.8.1 in /usr/local/lib/python3.6/dist-packages (from nbconvert->notebook>=4.4.1->widgetsnbextension~=3.5.0->ipywidgets>=7.5.1->pandas_profiling) (0.8.4)\n",
            "Requirement already satisfied: testpath in /usr/local/lib/python3.6/dist-packages (from nbconvert->notebook>=4.4.1->widgetsnbextension~=3.5.0->ipywidgets>=7.5.1->pandas_profiling) (0.4.4)\n",
            "Requirement already satisfied: webencodings in /usr/local/lib/python3.6/dist-packages (from bleach->nbconvert->notebook>=4.4.1->widgetsnbextension~=3.5.0->ipywidgets>=7.5.1->pandas_profiling) (0.5.1)\n",
            "Requirement already satisfied: packaging in /usr/local/lib/python3.6/dist-packages (from bleach->nbconvert->notebook>=4.4.1->widgetsnbextension~=3.5.0->ipywidgets>=7.5.1->pandas_profiling) (20.4)\n"
          ],
          "name": "stdout"
        }
      ]
    },
    {
      "cell_type": "code",
      "metadata": {
        "id": "uH0wivyvsoeD",
        "colab_type": "code",
        "colab": {
          "base_uri": "https://localhost:8080/",
          "height": 1000
        },
        "outputId": "cb84ee04-66c6-4f41-c68c-66223270f5b7"
      },
      "source": [
        "import sys\n",
        "!{sys.executable} -m pip install -U pandas-profiling[notebook]\n",
        "!jupyter nbextension enable --py widgetsnbextension"
      ],
      "execution_count": null,
      "outputs": [
        {
          "output_type": "stream",
          "text": [
            "Requirement already up-to-date: pandas-profiling[notebook] in /usr/local/lib/python3.6/dist-packages (2.9.0)\n",
            "Requirement already satisfied, skipping upgrade: pandas!=1.0.0,!=1.0.1,!=1.0.2,!=1.1.0,>=0.25.3 in /usr/local/lib/python3.6/dist-packages (from pandas-profiling[notebook]) (1.0.5)\n",
            "Requirement already satisfied, skipping upgrade: phik>=0.9.10 in /usr/local/lib/python3.6/dist-packages (from pandas-profiling[notebook]) (0.10.0)\n",
            "Requirement already satisfied, skipping upgrade: attrs>=19.3.0 in /usr/local/lib/python3.6/dist-packages (from pandas-profiling[notebook]) (20.1.0)\n",
            "Requirement already satisfied, skipping upgrade: joblib in /usr/local/lib/python3.6/dist-packages (from pandas-profiling[notebook]) (0.16.0)\n",
            "Requirement already satisfied, skipping upgrade: visions[type_image_path]==0.5.0 in /usr/local/lib/python3.6/dist-packages (from pandas-profiling[notebook]) (0.5.0)\n",
            "Requirement already satisfied, skipping upgrade: tangled-up-in-unicode>=0.0.6 in /usr/local/lib/python3.6/dist-packages (from pandas-profiling[notebook]) (0.0.6)\n",
            "Requirement already satisfied, skipping upgrade: seaborn>=0.10.1 in /usr/local/lib/python3.6/dist-packages (from pandas-profiling[notebook]) (0.10.1)\n",
            "Requirement already satisfied, skipping upgrade: missingno>=0.4.2 in /usr/local/lib/python3.6/dist-packages (from pandas-profiling[notebook]) (0.4.2)\n",
            "Requirement already satisfied, skipping upgrade: requests>=2.23.0 in /usr/local/lib/python3.6/dist-packages (from pandas-profiling[notebook]) (2.23.0)\n",
            "Requirement already satisfied, skipping upgrade: tqdm>=4.43.0 in /usr/local/lib/python3.6/dist-packages (from pandas-profiling[notebook]) (4.48.2)\n",
            "Requirement already satisfied, skipping upgrade: ipywidgets>=7.5.1 in /usr/local/lib/python3.6/dist-packages (from pandas-profiling[notebook]) (7.5.1)\n",
            "Requirement already satisfied, skipping upgrade: jinja2>=2.11.1 in /usr/local/lib/python3.6/dist-packages (from pandas-profiling[notebook]) (2.11.2)\n",
            "Requirement already satisfied, skipping upgrade: confuse>=1.0.0 in /usr/local/lib/python3.6/dist-packages (from pandas-profiling[notebook]) (1.3.0)\n",
            "Requirement already satisfied, skipping upgrade: htmlmin>=0.1.12 in /usr/local/lib/python3.6/dist-packages (from pandas-profiling[notebook]) (0.1.12)\n",
            "Requirement already satisfied, skipping upgrade: numpy>=1.16.0 in /usr/local/lib/python3.6/dist-packages (from pandas-profiling[notebook]) (1.18.5)\n",
            "Requirement already satisfied, skipping upgrade: scipy>=1.4.1 in /usr/local/lib/python3.6/dist-packages (from pandas-profiling[notebook]) (1.4.1)\n",
            "Requirement already satisfied, skipping upgrade: matplotlib>=3.2.0 in /usr/local/lib/python3.6/dist-packages (from pandas-profiling[notebook]) (3.2.2)\n",
            "Requirement already satisfied, skipping upgrade: jupyter-core>=4.6.3; extra == \"notebook\" in /usr/local/lib/python3.6/dist-packages (from pandas-profiling[notebook]) (4.6.3)\n",
            "Requirement already satisfied, skipping upgrade: jupyter-client>=6.0.0; extra == \"notebook\" in /usr/local/lib/python3.6/dist-packages (from pandas-profiling[notebook]) (6.1.7)\n",
            "Requirement already satisfied, skipping upgrade: pytz>=2017.2 in /usr/local/lib/python3.6/dist-packages (from pandas!=1.0.0,!=1.0.1,!=1.0.2,!=1.1.0,>=0.25.3->pandas-profiling[notebook]) (2018.9)\n",
            "Requirement already satisfied, skipping upgrade: python-dateutil>=2.6.1 in /usr/local/lib/python3.6/dist-packages (from pandas!=1.0.0,!=1.0.1,!=1.0.2,!=1.1.0,>=0.25.3->pandas-profiling[notebook]) (2.8.1)\n",
            "Requirement already satisfied, skipping upgrade: numba>=0.38.1 in /usr/local/lib/python3.6/dist-packages (from phik>=0.9.10->pandas-profiling[notebook]) (0.48.0)\n",
            "Requirement already satisfied, skipping upgrade: networkx>=2.4 in /usr/local/lib/python3.6/dist-packages (from visions[type_image_path]==0.5.0->pandas-profiling[notebook]) (2.5)\n",
            "Requirement already satisfied, skipping upgrade: imagehash; extra == \"type_image_path\" in /usr/local/lib/python3.6/dist-packages (from visions[type_image_path]==0.5.0->pandas-profiling[notebook]) (4.1.0)\n",
            "Requirement already satisfied, skipping upgrade: Pillow; extra == \"type_image_path\" in /usr/local/lib/python3.6/dist-packages (from visions[type_image_path]==0.5.0->pandas-profiling[notebook]) (7.0.0)\n",
            "Requirement already satisfied, skipping upgrade: certifi>=2017.4.17 in /usr/local/lib/python3.6/dist-packages (from requests>=2.23.0->pandas-profiling[notebook]) (2020.6.20)\n",
            "Requirement already satisfied, skipping upgrade: urllib3!=1.25.0,!=1.25.1,<1.26,>=1.21.1 in /usr/local/lib/python3.6/dist-packages (from requests>=2.23.0->pandas-profiling[notebook]) (1.24.3)\n",
            "Requirement already satisfied, skipping upgrade: chardet<4,>=3.0.2 in /usr/local/lib/python3.6/dist-packages (from requests>=2.23.0->pandas-profiling[notebook]) (3.0.4)\n",
            "Requirement already satisfied, skipping upgrade: idna<3,>=2.5 in /usr/local/lib/python3.6/dist-packages (from requests>=2.23.0->pandas-profiling[notebook]) (2.10)\n",
            "Requirement already satisfied, skipping upgrade: nbformat>=4.2.0 in /usr/local/lib/python3.6/dist-packages (from ipywidgets>=7.5.1->pandas-profiling[notebook]) (5.0.7)\n",
            "Requirement already satisfied, skipping upgrade: widgetsnbextension~=3.5.0 in /usr/local/lib/python3.6/dist-packages (from ipywidgets>=7.5.1->pandas-profiling[notebook]) (3.5.1)\n",
            "Requirement already satisfied, skipping upgrade: traitlets>=4.3.1 in /usr/local/lib/python3.6/dist-packages (from ipywidgets>=7.5.1->pandas-profiling[notebook]) (4.3.3)\n",
            "Requirement already satisfied, skipping upgrade: ipykernel>=4.5.1 in /usr/local/lib/python3.6/dist-packages (from ipywidgets>=7.5.1->pandas-profiling[notebook]) (5.3.4)\n",
            "Requirement already satisfied, skipping upgrade: ipython>=4.0.0; python_version >= \"3.3\" in /usr/local/lib/python3.6/dist-packages (from ipywidgets>=7.5.1->pandas-profiling[notebook]) (5.5.0)\n",
            "Requirement already satisfied, skipping upgrade: MarkupSafe>=0.23 in /usr/local/lib/python3.6/dist-packages (from jinja2>=2.11.1->pandas-profiling[notebook]) (1.1.1)\n",
            "Requirement already satisfied, skipping upgrade: pyyaml in /usr/local/lib/python3.6/dist-packages (from confuse>=1.0.0->pandas-profiling[notebook]) (3.13)\n",
            "Requirement already satisfied, skipping upgrade: cycler>=0.10 in /usr/local/lib/python3.6/dist-packages (from matplotlib>=3.2.0->pandas-profiling[notebook]) (0.10.0)\n",
            "Requirement already satisfied, skipping upgrade: kiwisolver>=1.0.1 in /usr/local/lib/python3.6/dist-packages (from matplotlib>=3.2.0->pandas-profiling[notebook]) (1.2.0)\n",
            "Requirement already satisfied, skipping upgrade: pyparsing!=2.0.4,!=2.1.2,!=2.1.6,>=2.0.1 in /usr/local/lib/python3.6/dist-packages (from matplotlib>=3.2.0->pandas-profiling[notebook]) (2.4.7)\n",
            "Requirement already satisfied, skipping upgrade: pyzmq>=13 in /usr/local/lib/python3.6/dist-packages (from jupyter-client>=6.0.0; extra == \"notebook\"->pandas-profiling[notebook]) (19.0.2)\n",
            "Requirement already satisfied, skipping upgrade: tornado>=4.1 in /usr/local/lib/python3.6/dist-packages (from jupyter-client>=6.0.0; extra == \"notebook\"->pandas-profiling[notebook]) (5.1.1)\n",
            "Requirement already satisfied, skipping upgrade: six>=1.5 in /usr/local/lib/python3.6/dist-packages (from python-dateutil>=2.6.1->pandas!=1.0.0,!=1.0.1,!=1.0.2,!=1.1.0,>=0.25.3->pandas-profiling[notebook]) (1.15.0)\n",
            "Requirement already satisfied, skipping upgrade: llvmlite<0.32.0,>=0.31.0dev0 in /usr/local/lib/python3.6/dist-packages (from numba>=0.38.1->phik>=0.9.10->pandas-profiling[notebook]) (0.31.0)\n",
            "Requirement already satisfied, skipping upgrade: setuptools in /usr/local/lib/python3.6/dist-packages (from numba>=0.38.1->phik>=0.9.10->pandas-profiling[notebook]) (49.6.0)\n",
            "Requirement already satisfied, skipping upgrade: decorator>=4.3.0 in /usr/local/lib/python3.6/dist-packages (from networkx>=2.4->visions[type_image_path]==0.5.0->pandas-profiling[notebook]) (4.4.2)\n",
            "Requirement already satisfied, skipping upgrade: PyWavelets in /usr/local/lib/python3.6/dist-packages (from imagehash; extra == \"type_image_path\"->visions[type_image_path]==0.5.0->pandas-profiling[notebook]) (1.1.1)\n",
            "Requirement already satisfied, skipping upgrade: jsonschema!=2.5.0,>=2.4 in /usr/local/lib/python3.6/dist-packages (from nbformat>=4.2.0->ipywidgets>=7.5.1->pandas-profiling[notebook]) (2.6.0)\n",
            "Requirement already satisfied, skipping upgrade: ipython-genutils in /usr/local/lib/python3.6/dist-packages (from nbformat>=4.2.0->ipywidgets>=7.5.1->pandas-profiling[notebook]) (0.2.0)\n",
            "Requirement already satisfied, skipping upgrade: notebook>=4.4.1 in /usr/local/lib/python3.6/dist-packages (from widgetsnbextension~=3.5.0->ipywidgets>=7.5.1->pandas-profiling[notebook]) (5.3.1)\n",
            "Requirement already satisfied, skipping upgrade: pexpect; sys_platform != \"win32\" in /usr/local/lib/python3.6/dist-packages (from ipython>=4.0.0; python_version >= \"3.3\"->ipywidgets>=7.5.1->pandas-profiling[notebook]) (4.8.0)\n",
            "Requirement already satisfied, skipping upgrade: pygments in /usr/local/lib/python3.6/dist-packages (from ipython>=4.0.0; python_version >= \"3.3\"->ipywidgets>=7.5.1->pandas-profiling[notebook]) (2.1.3)\n",
            "Requirement already satisfied, skipping upgrade: prompt-toolkit<2.0.0,>=1.0.4 in /usr/local/lib/python3.6/dist-packages (from ipython>=4.0.0; python_version >= \"3.3\"->ipywidgets>=7.5.1->pandas-profiling[notebook]) (1.0.18)\n",
            "Requirement already satisfied, skipping upgrade: simplegeneric>0.8 in /usr/local/lib/python3.6/dist-packages (from ipython>=4.0.0; python_version >= \"3.3\"->ipywidgets>=7.5.1->pandas-profiling[notebook]) (0.8.1)\n",
            "Requirement already satisfied, skipping upgrade: pickleshare in /usr/local/lib/python3.6/dist-packages (from ipython>=4.0.0; python_version >= \"3.3\"->ipywidgets>=7.5.1->pandas-profiling[notebook]) (0.7.5)\n",
            "Requirement already satisfied, skipping upgrade: terminado>=0.8.1 in /usr/local/lib/python3.6/dist-packages (from notebook>=4.4.1->widgetsnbextension~=3.5.0->ipywidgets>=7.5.1->pandas-profiling[notebook]) (0.8.3)\n",
            "Requirement already satisfied, skipping upgrade: Send2Trash in /usr/local/lib/python3.6/dist-packages (from notebook>=4.4.1->widgetsnbextension~=3.5.0->ipywidgets>=7.5.1->pandas-profiling[notebook]) (1.5.0)\n",
            "Requirement already satisfied, skipping upgrade: nbconvert in /usr/local/lib/python3.6/dist-packages (from notebook>=4.4.1->widgetsnbextension~=3.5.0->ipywidgets>=7.5.1->pandas-profiling[notebook]) (5.6.1)\n",
            "Requirement already satisfied, skipping upgrade: ptyprocess>=0.5 in /usr/local/lib/python3.6/dist-packages (from pexpect; sys_platform != \"win32\"->ipython>=4.0.0; python_version >= \"3.3\"->ipywidgets>=7.5.1->pandas-profiling[notebook]) (0.6.0)\n",
            "Requirement already satisfied, skipping upgrade: wcwidth in /usr/local/lib/python3.6/dist-packages (from prompt-toolkit<2.0.0,>=1.0.4->ipython>=4.0.0; python_version >= \"3.3\"->ipywidgets>=7.5.1->pandas-profiling[notebook]) (0.2.5)\n",
            "Requirement already satisfied, skipping upgrade: testpath in /usr/local/lib/python3.6/dist-packages (from nbconvert->notebook>=4.4.1->widgetsnbextension~=3.5.0->ipywidgets>=7.5.1->pandas-profiling[notebook]) (0.4.4)\n",
            "Requirement already satisfied, skipping upgrade: pandocfilters>=1.4.1 in /usr/local/lib/python3.6/dist-packages (from nbconvert->notebook>=4.4.1->widgetsnbextension~=3.5.0->ipywidgets>=7.5.1->pandas-profiling[notebook]) (1.4.2)\n",
            "Requirement already satisfied, skipping upgrade: defusedxml in /usr/local/lib/python3.6/dist-packages (from nbconvert->notebook>=4.4.1->widgetsnbextension~=3.5.0->ipywidgets>=7.5.1->pandas-profiling[notebook]) (0.6.0)\n",
            "Requirement already satisfied, skipping upgrade: mistune<2,>=0.8.1 in /usr/local/lib/python3.6/dist-packages (from nbconvert->notebook>=4.4.1->widgetsnbextension~=3.5.0->ipywidgets>=7.5.1->pandas-profiling[notebook]) (0.8.4)\n",
            "Requirement already satisfied, skipping upgrade: entrypoints>=0.2.2 in /usr/local/lib/python3.6/dist-packages (from nbconvert->notebook>=4.4.1->widgetsnbextension~=3.5.0->ipywidgets>=7.5.1->pandas-profiling[notebook]) (0.3)\n",
            "Requirement already satisfied, skipping upgrade: bleach in /usr/local/lib/python3.6/dist-packages (from nbconvert->notebook>=4.4.1->widgetsnbextension~=3.5.0->ipywidgets>=7.5.1->pandas-profiling[notebook]) (3.1.5)\n",
            "Requirement already satisfied, skipping upgrade: webencodings in /usr/local/lib/python3.6/dist-packages (from bleach->nbconvert->notebook>=4.4.1->widgetsnbextension~=3.5.0->ipywidgets>=7.5.1->pandas-profiling[notebook]) (0.5.1)\n",
            "Requirement already satisfied, skipping upgrade: packaging in /usr/local/lib/python3.6/dist-packages (from bleach->nbconvert->notebook>=4.4.1->widgetsnbextension~=3.5.0->ipywidgets>=7.5.1->pandas-profiling[notebook]) (20.4)\n",
            "Enabling notebook extension jupyter-js-widgets/extension...\n",
            "      - Validating: \u001b[32mOK\u001b[0m\n"
          ],
          "name": "stdout"
        }
      ]
    },
    {
      "cell_type": "code",
      "metadata": {
        "id": "-trRRddytBLk",
        "colab_type": "code",
        "colab": {
          "base_uri": "https://localhost:8080/",
          "height": 72
        },
        "outputId": "54ec82ca-dfc3-4544-a440-a9f04f7c9b0a"
      },
      "source": [
        "from pathlib import Path\n",
        "\n",
        "import requests\n",
        "import numpy as np\n",
        "import pandas as pd\n",
        "\n",
        "import pandas_profiling\n",
        "from pandas_profiling.utils.cache import cache_file"
      ],
      "execution_count": null,
      "outputs": [
        {
          "output_type": "stream",
          "text": [
            "/usr/local/lib/python3.6/dist-packages/statsmodels/tools/_testing.py:19: FutureWarning: pandas.util.testing is deprecated. Use the functions in the public API at pandas.testing instead.\n",
            "  import pandas.util.testing as tm\n"
          ],
          "name": "stderr"
        }
      ]
    },
    {
      "cell_type": "code",
      "metadata": {
        "id": "i1N1EjMFglXP",
        "colab_type": "code",
        "colab": {}
      },
      "source": [
        "import pandas_profiling as pp"
      ],
      "execution_count": null,
      "outputs": []
    },
    {
      "cell_type": "code",
      "metadata": {
        "scrolled": true,
        "id": "iujivqFSr9O3",
        "colab_type": "code",
        "colab": {}
      },
      "source": [
        "report = pp.ProfileReport(df3, title='Grab Dataset Profiling Report')"
      ],
      "execution_count": null,
      "outputs": []
    },
    {
      "cell_type": "code",
      "metadata": {
        "id": "p2O8eYjPo3Xy",
        "colab_type": "code",
        "colab": {
          "base_uri": "https://localhost:8080/",
          "height": 215,
          "referenced_widgets": [
            "151071b65e0541c0b861bfe16a813d5c",
            "806e482d80a147fbbc57ef83310d9009",
            "4fd26f7e14d3404583fb1e8a54139e9c",
            "ffcbb0c0a6734e44ac3e4a3870b543b6",
            "54aa2f362d1b4adca2319b4ebb9b48fc",
            "249d9d3ac5e74a1991d3664cdf43a191",
            "17abbee80a4a426985417c229fbe5b5f",
            "267931ae1eb54ddaaa459d1f8d428961",
            "c3bec3da8e58480986f12c20bf820d2f",
            "fb467f20189a48a1a15b461f6d84d586",
            "2caaa482cfeb4432a3fb092102bfef20",
            "0f40a7e829b9495686cb26c3e7a15559",
            "05aa578af46a4f64906f38484eb766fb",
            "685db6b052184f958c3d49668b892349",
            "66062aac702d42318198c8513f39fe13",
            "46805744940c4415ade777bdf5fc8a37",
            "14866fdcb5ed4296b94f1c97960df0cc",
            "f7a9058890de43e29c7bf676e98ee575",
            "e67ca9034fd24d41848611aabb48579b",
            "b713e641f7de4d37a1dd14f009152ee9",
            "f5b63b7d11c3409baa7864599383884b",
            "e012c933bb8841879759f8d03d1256c0",
            "0cb610f3288841e099a8687827f94664",
            "33e6512c5d9c43529da76fca88b69d1f",
            "d99829fa8a494aceb04ad6c8679de140",
            "81747924873a4228b9b1747fed6c99b5",
            "11b17b1bcde84e4f87202cd66edc2e46",
            "fee52d5f59d84a8d9a4f9ce591e9f344",
            "83d24c1b3292498f9e9a14fcdcd02cdb",
            "b68a774daf2141519b2bfd9e9b432f3b",
            "d7eebdcbe464431db3c118d3a091b20d",
            "36f36407b3b04241bf7505749ed7ec35"
          ]
        },
        "outputId": "c002a5b7-e6bf-4050-b715-3912cc170877"
      },
      "source": [
        "report.to_file(\"grab_full_eda.html\")"
      ],
      "execution_count": null,
      "outputs": [
        {
          "output_type": "display_data",
          "data": {
            "application/vnd.jupyter.widget-view+json": {
              "model_id": "151071b65e0541c0b861bfe16a813d5c",
              "version_minor": 0,
              "version_major": 2
            },
            "text/plain": [
              "HBox(children=(FloatProgress(value=0.0, description='Summarize dataset', max=24.0, style=ProgressStyle(descrip…"
            ]
          },
          "metadata": {
            "tags": []
          }
        },
        {
          "output_type": "stream",
          "text": [
            "\n"
          ],
          "name": "stdout"
        },
        {
          "output_type": "display_data",
          "data": {
            "application/vnd.jupyter.widget-view+json": {
              "model_id": "c3bec3da8e58480986f12c20bf820d2f",
              "version_minor": 0,
              "version_major": 2
            },
            "text/plain": [
              "HBox(children=(FloatProgress(value=0.0, description='Generate report structure', max=1.0, style=ProgressStyle(…"
            ]
          },
          "metadata": {
            "tags": []
          }
        },
        {
          "output_type": "stream",
          "text": [
            "\n"
          ],
          "name": "stdout"
        },
        {
          "output_type": "display_data",
          "data": {
            "application/vnd.jupyter.widget-view+json": {
              "model_id": "14866fdcb5ed4296b94f1c97960df0cc",
              "version_minor": 0,
              "version_major": 2
            },
            "text/plain": [
              "HBox(children=(FloatProgress(value=0.0, description='Render HTML', max=1.0, style=ProgressStyle(description_wi…"
            ]
          },
          "metadata": {
            "tags": []
          }
        },
        {
          "output_type": "stream",
          "text": [
            "\n"
          ],
          "name": "stdout"
        },
        {
          "output_type": "display_data",
          "data": {
            "application/vnd.jupyter.widget-view+json": {
              "model_id": "d99829fa8a494aceb04ad6c8679de140",
              "version_minor": 0,
              "version_major": 2
            },
            "text/plain": [
              "HBox(children=(FloatProgress(value=0.0, description='Export report to file', max=1.0, style=ProgressStyle(desc…"
            ]
          },
          "metadata": {
            "tags": []
          }
        },
        {
          "output_type": "stream",
          "text": [
            "\n"
          ],
          "name": "stdout"
        }
      ]
    },
    {
      "cell_type": "code",
      "metadata": {
        "id": "FWmvulYlo3Wb",
        "colab_type": "code",
        "colab": {
          "base_uri": "https://localhost:8080/",
          "height": 16
        },
        "outputId": "22902de2-3dba-4b9a-9b20-db1963e6c907"
      },
      "source": [
        "files.download('grab_full_eda.html')"
      ],
      "execution_count": null,
      "outputs": [
        {
          "output_type": "display_data",
          "data": {
            "application/javascript": [
              "\n",
              "    async function download(id, filename, size) {\n",
              "      if (!google.colab.kernel.accessAllowed) {\n",
              "        return;\n",
              "      }\n",
              "      const div = document.createElement('div');\n",
              "      const label = document.createElement('label');\n",
              "      label.textContent = `Downloading \"${filename}\": `;\n",
              "      div.appendChild(label);\n",
              "      const progress = document.createElement('progress');\n",
              "      progress.max = size;\n",
              "      div.appendChild(progress);\n",
              "      document.body.appendChild(div);\n",
              "\n",
              "      const buffers = [];\n",
              "      let downloaded = 0;\n",
              "\n",
              "      const channel = await google.colab.kernel.comms.open(id);\n",
              "      // Send a message to notify the kernel that we're ready.\n",
              "      channel.send({})\n",
              "\n",
              "      for await (const message of channel.messages) {\n",
              "        // Send a message to notify the kernel that we're ready.\n",
              "        channel.send({})\n",
              "        if (message.buffers) {\n",
              "          for (const buffer of message.buffers) {\n",
              "            buffers.push(buffer);\n",
              "            downloaded += buffer.byteLength;\n",
              "            progress.value = downloaded;\n",
              "          }\n",
              "        }\n",
              "      }\n",
              "      const blob = new Blob(buffers, {type: 'application/binary'});\n",
              "      const a = document.createElement('a');\n",
              "      a.href = window.URL.createObjectURL(blob);\n",
              "      a.download = filename;\n",
              "      div.appendChild(a);\n",
              "      a.click();\n",
              "      div.remove();\n",
              "    }\n",
              "  "
            ],
            "text/plain": [
              "<IPython.core.display.Javascript object>"
            ]
          },
          "metadata": {
            "tags": []
          }
        },
        {
          "output_type": "display_data",
          "data": {
            "application/javascript": [
              "download(\"download_d0b1efe9-eb77-4c17-9f0c-17a29adaa5e7\", \"grab_full_eda.html\", 3008895)"
            ],
            "text/plain": [
              "<IPython.core.display.Javascript object>"
            ]
          },
          "metadata": {
            "tags": []
          }
        }
      ]
    },
    {
      "cell_type": "code",
      "metadata": {
        "id": "FB7SL5glJzw3",
        "colab_type": "code",
        "colab": {}
      },
      "source": [
        ""
      ],
      "execution_count": null,
      "outputs": []
    }
  ]
}